{
 "cells": [
  {
   "cell_type": "code",
   "execution_count": 18,
   "metadata": {
    "collapsed": true
   },
   "outputs": [],
   "source": [
    "\"\"\"THIS TESTER IS APPLYING NAIVE BAYES TO EXISTING NOTES FEATURE VECTORS.\n",
    "\n",
    "Notes frequency feature vectors are using the latest trial of ngrams = range of 1-2.\n",
    "    TRAINING SET SCORE:  0.944444444444\n",
    "    Validation Results: 11 correct predictions out of 18 sample test files\n",
    "\"\"\"\n",
    "\n",
    "###############################################\n",
    "\n",
    "import music21\n",
    "import pandas as pd\n",
    "import numpy as np\n",
    "# from pandas.tools.plotting import scatter_matrix\n",
    "# import matplotlib.pyplot as plt\n",
    "from sklearn.naive_bayes import MultinomialNB\n",
    "from sklearn.feature_extraction.text import TfidfVectorizer\n",
    "from sklearn.pipeline import Pipeline"
   ]
  },
  {
   "cell_type": "code",
   "execution_count": 2,
   "metadata": {
    "collapsed": true
   },
   "outputs": [],
   "source": [
    "def build_feature_corpus(filenames):\n",
    "    \"\"\"Takes MIDI files and creates feature arrays to be used for training.\"\"\"\n",
    "\n",
    "    notes_corpus = []\n",
    "    mode_corpus = []\n",
    "\n",
    "    # Iterating through every other file; for early trials using 1/2 files as training set, and other 1/2 to test\n",
    "    for filename in filenames:\n",
    "\n",
    "        # Convert MIDI file to score and iterate over notes in score\n",
    "        # Save relevant individual Note attributes into list, including Note obj (used to calc interval) and name\n",
    "        score = music21.converter.parse('MIDI test files/Cello solos/' + filename)\n",
    "        note_attributes = []\n",
    "        for note in music21.alpha.theoryAnalysis.theoryAnalyzer.getNotes(score, 0):\n",
    "            if note == None:\n",
    "                pass\n",
    "            else:\n",
    "                note_attributes.append([note, note.name])\n",
    "        print \"Note attributes for file {} completed\".format(filename)\n",
    "\n",
    "        # Creates string of all notes in a score and appends to notes_corpus\n",
    "        all_notes = \"\"\n",
    "        for note in note_attributes:\n",
    "            all_notes += note[1] + \" \"\n",
    "\n",
    "        notes_corpus.append(all_notes)\n",
    "\n",
    "        # Determines the mode (major or minor) and assigns to output corpus\n",
    "        # Note: At the moment, this doesn't take into account changes b/w major + minor w/in a score\n",
    "        mode_at_measure_0 = music21.alpha.theoryAnalysis.theoryAnalyzer.getKeyAtMeasure(score, 0).mode\n",
    "        is_major = (mode_at_measure_0 == 'major')\n",
    "        mode_corpus.append(is_major)\n",
    "\n",
    "    return notes_corpus, mode_corpus"
   ]
  },
  {
   "cell_type": "code",
   "execution_count": 19,
   "metadata": {
    "collapsed": true
   },
   "outputs": [],
   "source": [
    "def build_feature_vector_and_fit_model(training_corpus, outcomes):\n",
    "\n",
    "    vectorizer = TfidfVectorizer(min_df=1, analyzer='word', stop_words=None, ngram_range=(1,2), token_pattern=r'\\w#?-?')\n",
    "    \n",
    "    X_train = vectorizer.fit_transform(training_corpus)\n",
    "    X_train = X_train.toarray()\n",
    "    y_train = np.ravel(outcomes)\n",
    "\n",
    "    classifier_NB = MultinomialNB()\n",
    "    classifier_NB.fit(X_train, y_train)\n",
    "\n",
    "    print \"TRAINING SET SCORE: \", classifier_NB.score(X_train, y_train)\n",
    "\n",
    "    return vectorizer, classifier_NB"
   ]
  },
  {
   "cell_type": "code",
   "execution_count": 11,
   "metadata": {
    "collapsed": true
   },
   "outputs": [],
   "source": [
    "def predict(vectorizer, classifier, validation_corpus, outcomes):\n",
    "    \"\"\"Takes notes_corpus as a list of test scores (each a string of notes).\"\"\"\n",
    "    \n",
    "    X_test = vectorizer.transform(validation_corpus)\n",
    "    print type(X_test), X_test.shape\n",
    "    X_test = X_test.toarray()\n",
    "\n",
    "    prediction = classifier.predict(X_test)\n",
    "    prediction = list(prediction)\n",
    "    print 'PREDICTION:', prediction\n",
    "    print \"\"\n",
    "    print 'ACTUAL OUTCOMES: ', outcomes\n",
    "    \n",
    "    count = 0\n",
    "    for i in range(len(prediction)):\n",
    "        if prediction[i] == outcomes[i]:\n",
    "            count +=1\n",
    "        \n",
    "    print '{} correct predictions out of {} sample test files'.format(count, len(outcomes))"
   ]
  },
  {
   "cell_type": "code",
   "execution_count": 20,
   "metadata": {
    "collapsed": true
   },
   "outputs": [],
   "source": [
    "# ------------------------------Executable Code --------------------------------\n",
    "\n",
    "# read test files and construct training vs validation datasets\n",
    "filenames = open('test_files.txt').read().split('\\n')\n",
    "\n",
    "training_files = filenames[::2]\n",
    "validation_files = filenames[1::2]"
   ]
  },
  {
   "cell_type": "code",
   "execution_count": 21,
   "metadata": {
    "collapsed": false
   },
   "outputs": [
    {
     "name": "stdout",
     "output_type": "stream",
     "text": [
      "Note attributes for file cs1-1pre.mid completed\n",
      "Note attributes for file cs1-3cou.mid completed\n",
      "Note attributes for file cs1-5men.mid completed\n",
      "Note attributes for file cs2-1pre.mid completed\n",
      "Note attributes for file cs2-3cou.mid completed\n",
      "Note attributes for file cs2-5men.mid completed\n",
      "Note attributes for file cs3-1pre.mid completed\n",
      "Note attributes for file cs3-3cou.mid completed\n",
      "Note attributes for file cs3-5bou.mid completed\n",
      "Note attributes for file cs4-1pre.mid completed\n",
      "Note attributes for file cs4-3cou.mid completed\n",
      "Note attributes for file cs4-5bou.mid completed\n",
      "Note attributes for file cs5-1pre.mid completed\n",
      "Note attributes for file cs5-3cou.mid completed\n",
      "Note attributes for file cs5-5gav.mid completed\n",
      "Note attributes for file cs6-1pre.mid completed\n",
      "Note attributes for file cs6-3cou.mid completed\n",
      "Note attributes for file cs6-5gav.mid completed\n"
     ]
    }
   ],
   "source": [
    "# Build training features from input midi files\n",
    "training_corpus, training_outcomes = build_feature_corpus(training_files)"
   ]
  },
  {
   "cell_type": "code",
   "execution_count": 7,
   "metadata": {
    "collapsed": false
   },
   "outputs": [
    {
     "name": "stdout",
     "output_type": "stream",
     "text": [
      "['G D B A B D B D G D B A B D B D G E C B C E C E G E C B C E C E G F# C B C F# C F# G F# C B C F# C F# G G B A B G B G G G B A B G B F# G E B A B G F# G E G F# G B D C# B C# G A G A G A G C# G A G A G A G F# A D C# D A G A F# A G A D F# E D E B G F# G B G B E B G F# G B G B E C# D E D C# B A G F# E D C# B A G F# E D D A D F# A D E F# A G F# E D G# D F E F D G# D B D F E F D G# D C E A B C A E D C E A B C A F# E E- F# E- F# A F# A F# E- F# E- F# A F# A F# G F# E G F# G A F# G F# E D C B A G F# C D C D C D C F# C D C D C D C G B F E F B F B G B F E F B F B G C E D E C E C G C E D E C E C G F# C B C F# C F# G F# C B C F# C F# G D B A B G F# E D C B A G F# E D C# A E F# G E F# G C# A E F# G E F# G C A D E F# D E F# C A D E F# D E F# C A D F# A C# D A B C D E F# G A F# D E F# G A B C A F# G A B C D E- D C# D D C B C C A F# E D A B C D A D F# A B C A B G D C B G A B D G B D G A B G C# B A B- B- A G# A A G F# G G E C# B A C# E G A C# D C# D A F# E F# A D F# A D C# B A G F# E D C B A G F# E D C B A G F# E D C B A G F# E D C B A G F# E D C B A G F# E F# D E F# G E F# D G E F# D G E F# D E F# G A B D A B C D B C D B C B C A B A B G A G A F# G F# G E F# D E F F# G G# A B- B C C# D E- E F F# G B D B G B G B G B D B G B G B G A D A G A G A G A D A G A G A F# C D C F# C F# C F# C D C F# C F# C G ', 'G G D G B C D C B A B D G G A B G E C C A B C B A G F# D D D E F# G A B C B C A C B C A D C B A B A B G B A B G C B A G F# A D D G B D F# G B A G F# E D E C# A B C# D F# E D A D C# B A D A B F# G F# G E G F# G E A G F# E F# E F# D F# E F# D G F# E D D C# B A D C# B A G F# E D E D F# D E D G D E D A D E D B D E D C# D E D D G F# E D C# B A G F# E A G B A G F# E D A C# D G G D G B C D C B A B D G G A B G E C C A B C B A G F# D D D E F# G A B C B C A C B C A D C B A B A B G B A B G C B A G F# A D D G B D F# G B A G F# E D E C# A B C# D F# E D A D C# B A D A B F# G F# G E G F# G E A G F# E F# E F# D F# E F# D G F# E D D C# B A D C# B A G F# E D E D F# D E D G D E D A D E D B D E D C# D E D D G F# E D C# B A G F# E A G B A G F# E D A C# D A A F# D E F# G F# E D D F# C B C D C B A B G A B C B A G F# D B G G B A C B A G A F# E- A B C B A G F# G E E G F# A G F# E F E F A F E F A C B C A E- C B A G F# A E- G B A G F# E B E- E E F# G A B C D F B E F G F E D E C C C D E F# G E C# G A G A G C# G C# G A G C F# A F# A F# C F# C F# A F# B D E F G F E D E D C B F# A B C D C B A B G C B A C B A G D F# G A G B G A G C G A G D G A G E G A G F# G A G G C B A G F# E D C B A D C D B D C D B E D C B C B C A C B C A D C B A B A B G C B A G D F# G A A F# D E F# G F# E D D F# C B C D C B A B G A B C B A G F# D B G G B A C B A G A F# E- A B C B A G F# G E E G F# A G F# E F E F A F E F A C B C A E- C B A G F# A E- G B A G F# E B E- E E F# G A B C D F B E F G F E D E C C C D E F# G E C# G A G A G C# G C# G A G C F# A F# A F# C F# C F# A F# B D E F G F E D E D C B F# A B C D C B A B G C B A C B A G D F# G A G B G A G C G A G D G A G E G A G F# G A G G C B A G F# E D C B A D C D B D C D B E D C B C B C A C B C A D C B A B A B G C B A G D F# G ', 'G D B A B C B A G F# G D E G C A F# D B A A F# C B C D C B A G F# E F# G A G F# E F# D A D G D B A B C B A G F# G D E G C A F# D B A A F# C B C D C B A G F# E F# G A G F# E F# D A D D F# A G A B A G F# E D F# B D G# A B D A D C B C E- F# A C B A B E G A C B A G F# E B E- E E D C B D G D E F F D E C C B C# E A E F# G G E F# D D A D F# A C B D E G B D C E D F# G B D F# G D F# A G A B A G F# E D F# B D G# A B D A D C B C E- F# A C B A B E G A C B A G F# E B E- E E D C B D G D E F F D E C C B C# E A E F# G G E F# D D A D F# A C B D E G B D C E D F# G B D F# G B- A B- D E- G F A D G F# G B- C E- D A D G F# A B- A B- D E- G F A D G F# G B- C E D G F# B- A B- D E- G F A D G F# G B- C E- D A D G F# A B- A B- D E- G F A D G F# G B- C E D G F# D F# A C E- D C B- A B- G C E G B- D C B- A G A F E- D F B- A B- D E- G B- A B- D C E- D B- F A B- F D F B- B D F G# G F E- G C D E- A C E- G F E- D F B- C D F# A C E- D C B- D G A B- G C B- A G D F# G D F# A C E- D C B- A B- G C E G B- D C B- A G A F E- D F B- A B- D E- G B- A B- D C E- D B- F A B- F D F B- B D F G# G F E- G C D E- A C E- G F E- D F B- C D F# A C E- D C B- D G A B- G C B- A G D F# G G D B A B C B A G F# G D E G C A F# D B A A F# C B C D C B A G F# E F# G A G F# E F# D A D D F# A G A B A G F# E D F# B D G# A B D A D C B C E- F# A C B A B E G A C B A G F# E B E- E E D C B D G D E F F D E C C B C# E A E F# G G E F# D D A D F# A C B D E G B D C E D F# G B D F# G ', 'D F A F E D C# E G A B- A G F E G B- C# E B- A G F E F G A F D C B- A B- D F A D C B- A G F E G B- D C A B- G F E G B- A C E G C B- A G F E D F A C B- G A F E F A F G B- D F B- A G F E G A C E G C A E G F A D E- D A B- D G B- A C B- G D F E B C E G D E C B- G E B- F A C B- A G F# A B- C D C B- A F# E- D C B- A G B- D C B- A G# B C D E D C B G# F E D C B A C F E F G# A F D C B D G# B D C B A G# A C E A C E C B A G# A D F A D F E D C B D E D C B A C B A D B A G# C A G F C# G F E D F E D G# D E F B F E D G# D C B A B C E A B C A E C A G F# A C D E- D C B- C A B- A B- D G E- F G A G F E- D C D F B- G A B- C# B- A G F E F A D B- C D E D C B- A G A C F D E F G F E D C# G F E A E F G C# B- A G F G A C# D A G F A F E D G# D E F A F E D G# F E D C# B C# E A E C# E A G F E F E F A D A F A D C B- A G F G C# E C# G C# A G F E D A D E F D A F D C B- A G A B- D E- F G A B- G E- G F G A C# D E F G A F D F E F G B- A B C# D E B- G B- C# A G B- A G F E D E F D A F D A F D G# F D F E D C# B A B C# A D A E A F A G E C# E A C# E F G F G E F D C# D A C# D E F E F D E C# B C# A B C# D E D E C# D B A B F G# B C# D C# D B C# B- G F# G E- G D G E- G B- D C# E G A B- A G F# G E F D B- G A F E G F D C# E D B- A G F# A C E- D C B- A B- G F# G E- G D G E- G B- D G F E D C# B A G F E D A D E F E D C B- A G F E A C# E G F E D C# B A G F A D F A D F A D B- C A G D G A B- G F# G E- G D G C# D D C# D ', 'D D A F A D F G A B- A B- G A C B- A G F E- D E- D B- A B- D B- E B- F B- G B- E G C D E F G A B- A B- G A F E F A F B- F C F D F C# E A B C# D E F G F G E D A F E D C D C B A B A G# A B E F E F D E C D B C A B C B A G# A D A E A F A B C B A G# A F A E A E- A B C B A G# A E A E G# A E C# E A C# E G# A D D A F A D F G A B- A B- G A C B- A G F E- D E- D B- A B- D B- E B- F B- G B- E G C D E F G A B- A B- G A F E F A F B- F C F D F C# E A B C# D E F G F G E D A F E D C D C B A B A G# A B E F E F D E C D B C A B C B A G# A D A E A F A B C B A G# A F A E A E- A B C B A G# A E A E G# A E C# E A C# E G# A E E C# A C# E F G A B- G C# G F F C B- A G F E- D E- C F E- D E F G A B- C D E B- A G A F G F C G F E F A B- A G F E F G E F D C# G B G A G B G C# G A G F D F A D A D E F A F D G D G A B- G A F G E F D C# D E C# A C# B- C# A C# G C# F D E F E D C# D G D A D B- D E F E D C# D B- D A D G# D E F E D C# D A D A C# D A F A D F A D D E E C# A C# E F G A B- G C# G F F C B- A G F E- D E- C F E- D E F G A B- C D E B- A G A F G F C G F E F A B- A G F E F G E F D C# G B G A G B G C# G A G F D F A D A D E F A F D G D G A B- G A F G E F D C# D E C# A C# B- C# A C# G C# F D E F E D C# D G D A D B- D E F E D C# D B- D A D G# D E F E D C# D A D A C# D A F A D F A D D ', 'A B- B- A B- G A D G F E F E D C# B A A B- B- A B- G C A D E C# A B- B- A B- G A D G F E F E D C# B A A B- B- A B- G C A D E C# C# D E F E D C# E A G A D C# G F E F D C B- C A G A F E F F# B- C B- C A F# D C B- A C B- A B- G B- D C# D G F G E F G G E D D C# D E F E D C# E A G A D C# G F E F D C B- C A G A F E F F# B- C B- C A F# D C B- A C B- A B- G B- D C# D G F G E F G G E D D F# D E F# G A F# A G B E G D C# B C# A G F# D C# B A G B A G F# E D C# D G F# G A E F# D E F# G A F# A G B E G D C# B C# A G F# D C# B A G B A G F# E D C# D G F# G A E C# E D C# B C# G C# F# A D F# B A G F# G B E D C# B C# B- D B A G F# E G F# E D C# D B C# D E F# G A G F# G A B C E- C B A C B A G F# G A F# G E C# A B C# D E F# G B A G F# E D E C# D C# E D C# B C# G C# F# A D F# B A G F# G B E D C# B C# B- D B A G F# E G F# E D C# D B C# D E F# G A G F# G A B C E- C B A C B A G F# G A F# G E C# A B C# D E F# G B A G F# E D E C# D A B- B- A B- G A D G F E F E D C# B A A B- B- A B- G C A D E C# C# D E F E D C# E A G A D C# G F E F D C B- C A G A F E F F# B- C B- C A F# D C B- A C B- A B- G B- D C# D G F G E F G G E D D ', 'C B A G F E D C G E G C D E F G A B C D C B A G A B C D E F D E F E D C D E F G A B C D C B A G A B C D E F D E F E D C C B A G F E D C B C D E D C B A C G C F# E F# G A G F# E D F# C F# B A B C D C B A G B F# B E D E F# G F# E D C E B E A G A B C B A G F# A E A D C D E F# E D C B D A D G D E F# G A B C D C B A B C D C B A G A B A G F E G E C# A B C# D E F G E F D A F D E F G A B C A B D B G# E F# G# A B C D B C D C B A F E D C B A G F A B C# D E F D B G# A D E B D A G# B E G# B D C G# A E- A B A E- A B A E- A B C E A B C E A B C E B C D E B C D E B C D B G# F# E C A G# A C A G# A C A F# E- C A G# A C A G# A C A F D B G# F# G# B F E F B E D C A C E C A C E A C A E C A C E C A C E A C A F D B D G D B D G B D B G F B F G F B F G F D B G E C E G E C E G B- D B- G E C E G E C E G C B- A G A F E F G A B C D A F D G E D E F G A B C G E C F D F G F D F G F C F G F B F G F A F G F G F G E G C G E G C G E D C B A E C E A E C E A G F E F A D A F A D A F E D C B F# D F# B F# D F# B A G F# G B E B G B E B G F E D C G E G C G E G C B- A G A C F C A C F C A G F E D A F A D A F A D A B C G B F B G B F B G B F B G C E C G C E C G C E C G C D C G B D B G A D A G B D B G B G B G B D B G B C B G A C A G G C G G A C A G A F A G A C A G A B A G G B G G F B F G G B G G G E G G G B G G G A G G F A F G E A E G F A F G F D F G F A F G F B F G F D F G F B F G E C E G E E E G E C E G F B F G F D F G F B F G E- C E- G E- E- E- G E- C E- G F# C F# G D C D G E C E G F# C F# G E C E G F# C F# G G B A G F E D G E G D G C# G A G C# G A G C# G A F D A G F E D C F D F C F B F G F B F G F B F G E C G F E D C B C A C G C F# C D C F# C D C F# C D B G B D B G B D B F B D B- E B- C B- E B- C B- E B- C A F A C A F A C A E A C B D B F B D B F B D B F E C D E F G A B C D E F G E C D E F G A B- A B- G A F D E F G A B C B C A B G E F G A B C D C D B C A F G A B C D E D E C B A B G F E F D B A B G F E C B A G F E D C G E G E- D C C C C C C ', 'C C G E C G E C C D C B C D B G D B G F D C B A G C B A G F E F D G A G F E D C B C G C C D E F# B D G A B C G# D E D C B C B A G# A E C D E C A G F# A D E F# G A F# D C B A B A G F# G D B C D B G F E G A G F# G C D C B A G F# A B A G A C E D C B A G B C B E B A C D C F# C B D E D C B A G F E F D C F E D E C B C D E F# G A D E F# G A G E F# G A B D C A C F# C D C A C F# C D B- G B- F# B- D B- G B- F# B- E- A G A F# A E- A G A F# A C A F# D A F# D D F# A B C D A B G A B C G A F# G D E C A F# G C C G E C G E C C D C B C D B G D B G F D C B A G C B A G F E F D G A G F E D C B C G C C D E F# B D G A B C G# D E D C B C B A G# A E C D E C A G F# A D E F# G A F# D C B A B A G F# G D B C D B G F E G A G F# G C D C B A G F# A B A G A C E D C B A G B C B E B A C D C F# C B D E D C B A G F E F D C F E D E C B C D E F# G A D E F# G A G E F# G A B D C A C F# C D C A C F# C D B- G B- F# B- D B- G B- F# B- E- A G A F# A E- A G A F# A C A F# D A F# D D F# A B C D A B G A B C G A F# G D E C A F# G D D B G D B D F D B A B G C F E D E G C D E B C A F G A E F D B A B C D B G# F# G# A B G# E B G# E E D C A E C B G A F C A G E F D A F E C D C B C D G# C E D C B A E D C B A G# A E D C D E A A B C B C A G E C E G B- E D C B- A G A F E F C F A C F A G A B- A G F E G C# E G B- A G F E F G A F D F A D E F G# F E D C B A C F A F D B A G F E D C E A C A F D C B A G F E G C E C A F E D C B A B D B G D B G F D F B F G F D F B F G E- C E- B E- G E- C E- B E- G# D C D B D G# D C D B D F G B D F B D C B A G F E G F D E D C E D B C G A F D B C D D B G D B D F D B A B G C F E D E G C D E B C A F G A E F D B A B C D B G# F# G# A B G# E B G# E E D C A E C B G A F C A G E F D A F E C D C B C D G# C E D C B A E D C B A G# A E D C D E A A B C B C A G E C E G B- E D C B- A G A F E F C F A C F A G A B- A G F E G C# E G B- A G F E F G A F D F A D E F G# F E D C B A C F A F D B A G F E D C E A C A F D C B A G F E G C E C A F E D C B A B D B G D B G F D F B F G F D F B F G E- C E- B E- G E- C E- B E- G# D C D B D G# D C D B D F G B D F B D C B A G F E G F D E D C E D B C G A F D B C ', 'E F G C B C C B A B G D E F B A B G F E D E C C B A B C G F# B C E D B C C B D F# A D B G D F# G D G E F G C B C C B A B G D E F B A B G F E D E C C B A B C G F# B C E D B C C B D F# A D B G D F# G D G B C D B G F B E G C D E C G# A F A D C B A E A G# F# E B E C A G# A B E C E D B A B C E D D C E B C E A G# A E A A B C F# E F# D G D C A B G F E G C E D F E C D C B A G B C D B G A B G D E F D B C D B G F E C G G E C G C G E F D E C G E D E F C B E F A G E F F E G B D G E C G B C B C D B G F B E G C D E C G# A F A D C B A E A G# F# E B E C A G# A B E C E D B A B C E D D C E B C E A G# A E A A B C F# E F# D G D C A B G F E G C E D F E C D C B A G B C D B G A B G D E F D B C D B G F E C G G E C G C G E F D E C G E D E F C B E F A G E F F E G B D G E C G B C C D E- D C B C D C B A G F E- D E- G F E- D F E- D C B C D E- F G A B- G# G F E- D E- F G G# B- C D E- D C B- G# G F E- C D E- D C B C D C B A G F E- D E- G F E- D F E- D C B C D E- F G A B- G# G F E- D E- F G G# B- C D E- D C B- G# G F E- E- F G G F G A B- A B- C B- C D B- G B- A B- C B- A G F# E F# D D C D E- D E- G C B C D E- D C B- A G B- A G F# G D G G G# B- G# G F E F G B- G# G F D B C D E- D C E- D C B A G F E- D E- D F E- G F G# G G A B C D E- F D F E- D C E- D C B C E- F G G F G A B- A B- C B- C D B- G B- A B- C B- A G F# E F# D D C D E- D E- G C B C D E- D C B- A G B- A G F# G D G G G# B- G# G F E F G B- G# G F D B C D E- D C E- D C B A G F E- D E- D F E- G F G# G G A B C D E- F D F E- D C E- D C B C E F G C B C C B A B G D E F B A B G F E D E C C B A B C G F# B C E D B C C B D F# A D B G D F# G D G B C D B G F B E G C D E C G# A F A D C B A E A G# F# E B E C A G# A B E C E D B A B C E D D C E B C E A G# A E A A B C F# E F# D G D C A B G F E G C E D F E C D C B A G B C D B G A B G D E F D B C D B G F E C G G E C G C G E F D E C G E D E F C B E F A G E F F E G B D G E C G B C ', 'E- E- B- G B- E- G B- E- E- B- G B- E- G B- E- C# B- G B- E- G B- E- C# B- G B- E- G B- E- C G# E- G# C E- G# E- C G# E- G# C E- G# E- G# F D F B- D G# E- G# F D F B- D G# E- G E- B- E- G B- E- D G E- B- E- G B- D C E- C G C E- G C B- E- C G C E- G B- A E- C F A C E- A F E- C A C F A E- B- D B- F B- D F B- G# C# B- F B- C# F G# G C# B- E- G B- E- G E- C# B- G B- E- G C# G# C G# E- G# C E- G# G C G# E- G# C E- G F G# D B D G# B F E- G# F C F G# C E- D G# F B F G G# D C G# F C F G# C F B D G# F G# D F B G D B F G# D F B C E- C G C E- G C C E- C G C E- G C B- E C G C E G C B- E C G C E G B- G# F C G# C F G# E F C G# E F C F G# E C# B- G B- E G C C# B- G E G B- C# E F B- G# E F G# C F E- G# F C F G# C E- D G# F D F B- D F G# D F B- D B- G# F E- G E- B- E- G B- E- G B- E- B- G E- B- G C A C F# A F# C A E- G C E- G E- C G E- F# A C E- C F# C A D F# A C A D A G B- G D G B- D G F B- G D G B- D G E- B- G D G B- D G D B- G D G B- D G C# C# D E F# G A B- A G F# G E C# D E F# G A B- A G A B- C D C E- D C B- A B- C B- A G F# G D C A F# A D F# A D C A F# A D F# A D B- G D G B- D G D B- G D G B- D G D C# B- A B- C# B- A B- C# B- A B- C# B- A G B- G F# G B- G F# G B- G F# G B- G F# E G E D C# E C# B A C# A G F# A F# E D G G G A G F# G E F# G G B- G D G B- D F# G B- D G B- G D F G C# B- G B- E G B- C# G B- E G E C# E G# C G# F G# C F G# C F G# F C F D F A E- C A C E- F# C E- A C E- F# A C E- B- D B B- A B- D B B- A B- B B- G# G G# B B- G# G G# B- G# F# F F# B- G# F# F F# F# E E- D E- F# E E- D E- B E- G# B G# E- B G# B G# E- B G# F G# C A F# D E- F# E- D E- F# E- D E- A F# F F# A F# F F# C F# F F# E- F# F F# B- E- F# B- F# E- B- F# E- B- F# E- B- F# E- E F# E F# G# A G# A B A B A G# F# G# F# E E- D E- D E- E- E- B- G B- E- G B- E- E- B- G B- E- G B- E- C# B- G B- E- G B- E- C# B- G B- E- G B- E- C G# E- G# C E- G# E- C G# E- G# C E- G# D C B- C D E- F G G# F G G# D E- F B- C D E- F G G# B- C D C E- D D B- G# G F E- D C B- G# G F E- ', 'E- E- B- C G# F D E- E- D E- F G F G A B- F G E- C A B- B- G# G E- G# B- C C D E- F G G# G G# B- B- C D E- F G F G G# G F E- B- E- D E- E- B- C D E- D E- F G E- G D C B- A E- C D E- F E- F G A F A E- D C B- D D E- F G F G A B- G B- F E- D C A C G F E- D B- D A G F E- C E- A F E- D B- D G E- C A F G A B- C C A B- C D E- E- C D E- F G G F E- D C D B- E- C F A B- B- B- A G F G F E- D B- C D E- F F G A B- D C B- B- E- E- B- C G# F D E- E- D E- F G F G A B- F G E- C A B- B- G# G E- G# B- C C D E- F G G# G G# B- B- C D E- F G F G G# G F E- B- E- D E- E- B- C D E- D E- F G E- G D C B- A E- C D E- F E- F G A F A E- D C B- D D E- F G F G A B- G B- F E- D C A C G F E- D B- D A G F E- C E- A F E- D B- D G E- C A F G A B- C C A B- C D E- E- C D E- F G G F E- D C D B- E- C F A B- B- B- A G F G F E- D B- C D E- F F G A B- D C B- B- F F D G E- A F D B- C D E- D E- F G E- G# F B G E- C G A B C B C D E- D E- C E- B- E- A E- G F E- D C D B- D A D G D F E- D C B- C G# C G C F C E- D F G# G G# F G# E- G# D G# C B D F E- F D F C F B F A G B C E- F D G B C C G A B C B C D E D E F G F G G# B- G# B- G G# G F F E- D D C B- B- C D E- F E- F G G# G G# F G F E- E- D C C B- G# G# C B- G# B- G# G F G F E- D E- D C B- C B- G# G G# G F E- E- B- G# G F E- B- G C# B- G# G F E- C# G# C# C B- G# G F C G C B- G# G F E B- F B- G# G F E- D G# E- G# G F E- D E- G A C E- F# A C D B- C D E- F F D E- F G G# G# F G G# B- C C B- G# G F G E- G# F B- D E- E- B- C D E- D E- F G E- F G G# B- B- C D E- G F E- E- F F D G E- A F D B- C D E- D E- F G E- G# F B G E- C G A B C B C D E- D E- C E- B- E- A E- G F E- D C D B- D A D G D F E- D C B- C G# C G C F C E- D F G# G G# F G# E- G# D G# C B D F E- F D F C F B F A G B C E- F D G B C C G A B C B C D E D E F G F G G# B- G# B- G G# G F F E- D D C B- B- C D E- F E- F G G# G G# F G F E- E- D C C B- G# G# C B- G# B- G# G F G F E- D E- D C B- C B- G# G G# G F E- E- B- G# G F E- B- G C# B- G# G F E- C# G# C# C B- G# G F C G C B- G# G F E B- F B- G# G F E- D G# E- G# G F E- D E- G A C E- F# A C D B- C D E- F F D E- F G G# G# F G G# B- C C B- G# G F G E- G# F B- D E- E- B- C D E- D E- F G E- F G G# B- B- C D E- G F E- E- ', 'E- F G G# B- C G# B- C G G# F F D E- F G G# B- G G# B- F G E- E- E- F G G# B- B- C D E- F G# G# G F E- F E- F G G# B- B- C D E- F G# G# G F E- F F G A B- C A B- C D E- F G A B- C A B- C D E- D C D B- G B- E- C F A B- F B- E- F G G# B- C G# B- C G G# F F D E- F G G# B- G G# B- F G E- E- E- F G G# B- B- C D E- F G# G# G F E- F E- F G G# B- B- C D E- F G# G# G F E- F F G A B- C A B- C D E- F G A B- C A B- C D E- D C D B- G B- E- C F A B- F B- B- C D E- F G E- F B- F G E- E- G# G F E- D F E- D C B D C B A G D F B D G F E- D E- C D E- F G D C B A B G A B C D G F E- D E- E- D C B C C B- G# G G# G# G F E- D C B C G# F G# D C G B C G C C D E F G G# F G C G B- G# G F E- D C B- E- E- F G G# B- C E- D C D B- B- C D E- F D E- F G G# B- C D E- F D E- F G G# E- F G G# B- G G# B- C C# E- F G G# B- G G# B- C C# C B- C B- B- G# B- G G G G# B- G G# B- G# G G# F F G# G F E- D E- B- G F E- D E- E- G# G F G G# G F G G# G F E- D C B- G# G E- C G# B- C G G# F F C B- G# G F G# G F E- D F E- D C B- D F G# F E- D C B- E- E- F G G# B- C E- D C D B- E- D C B- E- E- F G G# B- C C# C B- C B- G# B- G# G G# G F G F E- F E- D E- B- G B- E- B- C D E- F D E- F G G# B- C D E- F D E- F G G# G F G B- E- G F E- B- D E- B- C D E- F G E- F B- F G E- E- G# G F E- D F E- D C B D C B A G D F B D G F E- D E- C D E- F G D C B A B G A B C D G F E- D E- E- D C B C C B- G# G G# G# G F E- D C B C G# F G# D C G B C G C C D E F G G# F G C G B- G# G F E- D C B- E- E- F G G# B- C E- D C D B- B- C D E- F D E- F G G# B- C D E- F D E- F G G# E- F G G# B- G G# B- C C# E- F G G# B- G G# B- C C# C B- C B- B- G# B- G G G G# B- G G# B- G# G G# F F G# G F E- D E- B- G F E- D E- E- G# G F G G# G F G G# G F E- D C B- G# G E- C G# B- C G G# F F C B- G# G F G# G F E- D F E- D C B- D F G# F E- D C B- E- E- F G G# B- C E- D C D B- E- D C B- E- E- F G G# B- C C# C B- C B- G# B- G# G G# G F G F E- F E- D E- B- G B- E- B- C D E- F D E- F G G# B- C D E- F D E- F G G# G F G B- E- G F E- B- D E- E- E- F D E- F G E- G# F B- D E- B- E- E- E- F D E- F G E- G# F B- D E- B- E- B- B- C B- G# G G# F G# B- G# G F E- D C B- G# G G# B- C G B- B- B- C B- G# G G# F G# B- G# G F E- D C B- G# G G# B- C G B- E- F G G# B- C G# B- C G G# F F D E- F G G# B- G G# B- F G E- E- E- F G G# B- B- C D E- F G# G# G F E- F E- F G G# B- B- C D E- F G# G# G F E- F F G A B- C A B- C D E- F G A B- C A B- C D E- D C D B- G B- E- C F A B- F B- B- C D E- F G E- F B- F G E- E- G# G F E- D F E- D C B D C B A G D F B D G F E- D E- C D E- F G D C B A B G A B C D G F E- D E- E- D C B C C B- G# G G# G# G F E- D C B C G# F G# D C G B C G C C D E F G G# F G C G B- G# G F E- D C B- E- E- F G G# B- C E- D C D B- B- C D E- F D E- F G G# B- C D E- F D E- F G G# E- F G G# B- G G# B- C C# E- F G G# B- G G# B- C C# C B- C B- B- G# B- G G G G# B- G G# B- G# G G# F F G# G F E- D E- B- G F E- D E- E- G# G F G G# G F G G# G F E- D C B- G# G E- C G# B- C G G# F F C B- G# G F G# G F E- D F E- D C B- D F G# F E- D C B- E- E- F G G# B- C E- D C D B- E- D C B- E- E- F G G# B- C C# C B- C B- G# B- G# G G# G F G F E- F E- D E- B- G B- E- B- C D E- F D E- F G G# B- C D E- F D E- F G G# G F G B- E- G F E- B- D E- ', 'C G A B C D E- F E- D E- C B C C C D E- D D E F F F E F F E- D E- F C B E- E- D C B- A B- B C B- C A B- G C# F E F G G# B- C E- D E- D D B- G F# G G G G# C D E- G F G E- F A B C E- D E- C D E- F G G# B G F E- D E- F D E- F D E- D E- G C D E- G A B- D C D B- C E F# G B- A B- G A B- C D G E- F# E- D C B- A B- C A B- C A B- G D E- F D E C G G# B- G G# F C D E- C D E- F G G# F G F E- D C B- G# C D E- G F G E- F A B C E- D E- C D E- F G G# F B C D E- F D E- F D E- F D E- D C D E- F G F G A B- D C D B- C D E F# G B- A B- G A B- C D E- C F# G A B- C A B- C A B- C A B- G A B- C D E- C D E- F G G# F G G# B- C D B- C D E- F G E- F G G# B- C B- G# G F E- G# G F E- D C F E- D C B- A E- D C B- B- C E- G F G# G C B- G# B- G G# C E- D F E- G# G F G E- F G G# B- C E- D C B- C D E- F F E- E- G F G E- B- D B- E B- F B- G# G G# F C E- C F C G C B- G# B- G E- G E- G# E- B- D F D G D G# C E- C F C G C B A B G G# B- C D E- G# G F G E- F G A F B F C F E- D E- C D E- F D B C D B G A B F E- G C F G B A C F B C E- D F B- E F G# F G E- G D G E- G E- C E- B- E- A F A E- A D G# D B- D G# E- G# G F G B- E- G A B- D C D B- C E F# G B- A B- G A B- C A F# G A F# D E F# C B- D G C D F# G D D D E- D E- F G F G G# F B F D G# G F E- G D E- F D E- C B C D B C E- D E- F D E B- G# B- C G# B- F E F G E F G# G G# B- G G# G F G G# F G E D E F D E F G G# B- G G# G G# B- C D E F G G# B- G G# G F E F G G# B- C C# B- C C# B- F G# G B- G# C# C B- C G# B- G D F E G F B- G# G G# F G G# B- G E F G E C D E B- G# C F B- C E F F G# G# E- C E- C G# G E- C E- C G# B- G# G F E- F E- D F E- G F F E- F D E- G C E- F E- D F B G# G F E- G C E- F E- D C B D G G# C D E- G F G E- F A B C E- D E- C D E- F G G# F C B A G C B C D D C C B- G# G G# F E C# C B- G# G G# G F D E- C B G# G F E- D E- D C A B- G F# E- D C B A B A G B D F G# G G F F E- E- C G C E- G C B- B- A A C F# C G C F# A C D E- D C C B B D B G D G F C B A G C E- F G B- G# B- G G# C D E- G F G E- F A B C E- D E- C F C# C B C G# G F# G E- D C E- C# C B C F# G A B C D E- D C D E- F G D E- C G B C C C C C C D E- E F# G ', 'C C D E- F G G# G F G E- F E- E- D C B C D G C B C D F E- D C F B- C G E- D D C B C D E- D C B- A B- F# G A F# C D B- D C C D E- F G G# G F G E- F E- E- D C B C D G C B C D F E- D C F B- C G E- D D C B C D E- D C B- A B- F# G A F# C D B- D D E- D C B C D G G# E- D E- F G# E- D C G# C# F G G# B- C C# G# G F E- C# E- C C# F G G# G# G F E- F G# G# G G# B- C D D C D B- C G G G# D B- G F E- G A G A A G A A C B G# F F G E- D D E- D C B C D G G# E- D E- F G# E- D C G# C# F G G# B- C C# G# G F E- C# E- C C# F G G# G# G F E- F G# G# G G# B- C D D C D B- C G G G# D B- G F E- G A G A A G A A C B G# F F G E- D ', 'C B- G B- F G E- B C G# E- F D A B D G D C G E- C G G# F B- E G# F B- D G E- G# D G E- B- G C G# C# G C G# E- A D B- E- D C B- A G B- G C A C A E- C D B- A D G F# C B- G B- F G E- B C G# E- F D A B D G D C G E- C G G# F B- E G# F B- D G E- G# D G E- B- G C G# C# G C G# E- A D B- E- D C B- A G B- G C A C A E- C D B- A D G F# G F D C E G E F C F G# F C G B- F G# G F G# G F E- D G# E- C D G# B- D E- G F D E- G B- E- F B- G E- F B- B- F G# G F E- F G# E- F D E- D E- C F G E- F E- D E- C A B- C E G B- F A G F A G B A C F# B D B C E- D C G D C B E- G G# F D F G E- C E- F D C B A G C E- F D B- D E- C G# C D B F E- D E- C E- C F D F D G# F G D G B G F D C E G E F C F G# F C G B- F G# G F G# G F E- D G# E- C D G# B- D E- G F D E- G B- E- F B- G E- F B- B- F G# G F E- F G# E- F D E- D E- C F G E- F E- D E- C A B- C E G B- F A G F A G B A C F# B D B C E- D C G D C B E- G G# F D F G E- C E- F D C B A G C E- F D B- D E- C G# C D B F E- D E- C E- C F D F D G# F G D G B G F G G# G F G F E- D E- F E- D C B C D G B D G F G G# G F G F E- D E- F E- D C B C D C C G F G G# G F G F E- D E- F E- D C B C D G B D G F G G# G F G F E- D E- F E- D C B C D C C E- D E- F E- D E- F G G# G F G F E- D E- F B- D F B- A B- C B- A B- A G E- D C B- A G F# G A G G G F G G# G F G F E- D E- F E- D C B C D G B D G F G G# G F G F E- D E- F E- D C B C D C G E- C E- G C E- G C D B C B- G# G G# B- G# G F E F G C D E F E F G F E F E- C# C C# E- C# E F G F E F C B- A B- C B- E F G F E B F G G# G F C B- G# G F E F G G# G G# F B C D C D B C B- G# G F E- G# G F E- D C B C D G B D G F G G# G F G F E- D E- F E- D C B C D C C E- D E- F E- D E- F G G# G F G F E- D E- F B- D F B- A B- C B- A B- A G E- D C B- A G F# G A G G G F G G# G F G F E- D E- F E- D C B C D G B D G F G G# G F G F E- D E- F E- D C B C D C G E- C E- G C E- G C D B C B- G# G G# B- G# G F E F G C D E F E F G F E F E- C# C C# E- C# E F G F E F C B- A B- C B- E F G F E B F G G# G F C B- G# G F E F G G# G G# F B C D C D B C B- G# G F E- G# G F E- D C B C D G B D G F G G# G F G F E- D E- F E- D C B C D C C C B- G B- F G E- B C G# E- F D A B D G D C G E- C G G# F B- E G# F B- D G E- G# D G E- B- G C G# C# G C G# E- A D B- E- D C B- A G B- G C A C A E- C D B- A D G F# G F D C E G E F C F G# F C G B- F G# G F G# G F E- D G# E- C D G# B- D E- G F D E- G B- E- F B- G E- F B- B- F G# G F E- F G# E- F D E- D E- C F G E- F E- D E- C A B- C E G B- F A G F A G B A C F# B D B C E- D C G D C B E- G G# F D F G E- C E- F D C B A G C E- F D B- D E- C G# C D B F E- D E- C E- C F D F D G# F G D G B ', 'D D D F# D A D D D D D F# D A D D B D G B C# D A D F# A C# D B D G B C# D A D F# A C# D G E F# G D F# G C# F# G A G F# D E F# C# E F# B D F# A D E G# D E A C# D A C# D G# B C# A C# E F# G# A C# E G# A B C# E G# A C# D E A C# E F# G# A A B C# E B C# A E C# E C# A A B C# E B C# A E C# E C# A A A C# A E A A A A A C# A E A A F# A D F# G# A E A C# E G# A F# A D F# G# A E A C# E G# A D B C# D A C# D G# C# D E D C# A B C# G# B C# F# A C# E A C E- C B C A F# A C B C A G E G B C# E- E G B E- E F# G B E- E G A B E G B C# E- E E F# G B F# G E B G B G E E F# G B F# G E B G B G E E- E F# G F# E E- E E- E F# G F# E E- E G E- F# E G E- F# E G F# A G E F# A G F# G A B A G F# G F# G A B A G F# G B F# A G B F# A G E F# E- E G F# E- E G D F# C# E B D B- C# B- C# F# G F# E D C# D B F# D B F# D B C# D E F# G B D F# B B- B G E D C# B B- E C# B- E C# B- E F# G F# E D B F# D B F# D B A G# A B F D C# D G# F# G# D C# D F D C# E D C# E B B- B C# G F# E D F# B A G F# G E D C# D E B- C# F# E D C# D B A G# A B F B D F B D B C# D C# B- B F# B D F# B D B C# D C# B- B G B E B C# D C# B- B F B- B F# C# D B A G F# E D C E B B- G F# E D C# D F# B F# B B- B F# E D F# C# D B D F# B F# D B F# D F# C# D B D F# A G# A E D C# E B C# A C# E A E C# G E C# E B C# A C# E F# G F# A G F# A E F# D E F# A B C A G F# A E F# D F# A B C B G A B D A B G D B D A B G A B D A B G D B G D G G G B G D G G G G G B G D G G E G C E F# G D G B D F# G E G C E F# G D G B D F# G C A B C A G F# A B C A F# D F# A C D F# A D A F# D C B G A B D A B G A B G A B G A B D A B G A B G E C# A B C# E F# G E D C# E B C# A B C# E F# G A B C# D E F# D E F# A E F# D E F# D E F# D E F# A E F# D E F# D B G# E F# G# B C# D B A G# B F# G# E F# G# B C# D E F# G# A B C# A B C# E F# G E D C# E B C# A B C# E F# G A B C# D E A F# D F# D E F# D E F# D D A G E G E F# G E F# G E E A A F# A F# G A F# G A F# F# A B G B G A B G A B G G A C# G F# E D C# F# E D C# B A F# E F# G F# G E D E F# E F# D C# D E D E C# B C# A F# D B A B G E C# A G A F# D B G F# G E C# A B C# D E F# G E C# A F# E F# D B G A B C# D E C# A F# D C# D B G E F# G A B C# A F# D B G E C# A B G E C# A F# G E C# A F# D E G A C# E F# G A C# E G A C# B A G F# E A G F# E D C# F# E D C# B A D C# B A G# F# B A G# F# E D C# E A C# E A E C# A E C# A C# E A C# E A E C# A E C# A G E A C# E A E C# A E C# A G E A C# E A E C# A E C# A F# A B C B A D A B C B A F# A B C B A F# A B C B A B D C B A G B A G F# E D E G F# E D C# F# E D C# B A F E D E F D G# D E F E D B D E F E D D D E F E D A A A C# A E A A A A A C# A E A A D D D F# D A D D D D D F# D A D D G# A B C# D D C# D D C# D D C# B G A C# D D C# B C# C# B C# C# B A F# E A D C# B E D G C# B A D A F# B G# A A F# G G E F F D E- E- C# D D D D D D C# D F# A D A F# D F# A C A F# D G B D B D G D G B G E C# E D E G F# G B A B D C# D A F# A F# D F# D A D A F# A F# D F# D A D A F# D ', 'D D D E F# D A F# D A F# D A C B E F# G E B D C# A B C# A E G F# D E F# D A C B G A B G E G F# A D G A C# D D F# G F# E D E C# D E A A E F# D E F# D A F# D B C# D B F# A G# B E C# D E D C# B C# A E D E F# E D C# D B E C# D E D C# B C# B A G# A G# A B C# B A G# A G# F# E F# E F# G# A G# F# E F# E D C# D C# D E F# E D C# D C# B A B C# D E F# G# A F# G# F# E D E F# G# A B C# D B C# A B C# A E C# A F# G# A F# C# A A C# D E C# A E F# E D C# D B G# F# A G# F# E B A G# F# G# E C# B D C# B A E D C# B C# A F# E G F# E D B G# A B E G# D C# A B C# E G# D A D D D E F# D A F# D A F# D A C B E F# G E B D C# A B C# A E G F# D E F# D A C B G A B G E G F# A D G A C# D D F# G F# E D E C# D E A A E F# D E F# D A F# D B C# D B F# A G# B E C# D E D C# B C# A E D E F# E D C# D B E C# D E D C# B C# B A G# A G# A B C# B A G# A G# F# E F# E F# G# A G# F# E F# E D C# D C# D E F# E D C# D C# B A B C# D E F# G# A F# G# F# E D E F# G# A B C# D B C# A B C# A E C# A F# G# A F# C# A A C# D E C# A E F# E D C# D B G# F# A G# F# E B A G# F# G# E C# B D C# B A E D C# B C# A F# E G F# E D B G# A B E G# D C# A B C# E G# D A A A E D C# E A C# E A C# E A G F# G F# E D C# G F# D D F# E G F# E D E C# A E D F# E D C# D F# B C# D E D E F# E F# G F# G A G A B C# D B C# G A B C# D C# D E D E F# E F# G F# G A B C# A B F# G A B C# B C# D C# D E D E F# E F# G A B G E D C# B B- G F# E B B- G# F# B A G F# E D C# D C# E B- B B B C# D B G# D B A G# A G# F# E A C# D E A G C# F# C A G F# G F# E D G B C D G B F# E C# D E A G D C# C# D E A G A D F# E G F# E D E D C# B C# B A G A G F# E F# E D C# D B C# D E F# E G F# A G# A C# D E F# G F# A G# B B- B D E F# B E- B C E F# G C E C# D F# G A A B C A C G B A B B C# D B D C# G C# E A G F# A G F# E F# D A F# E G F# E D E C# A G F# E D E F# G F# G A B A B A G F# G A B A B C# D C# D C# B A B C# D C# D E F# E F# E D C# D E F# E F# G A G F# E D C# B A G F# D E F# D A F# D B C# D B F# D D F# G A F# D A B A G F# G E C# B D C# B A E D C# B C# A F# E G F# E D A G F# E F# D B A C B A G E C# D E A C# G F# D E F# A C# G D A A E D C# E A C# E A C# E A G F# G F# E D C# G F# D D F# E G F# E D E C# A E D F# E D C# D F# B C# D E D E F# E F# G F# G A G A B C# D B C# G A B C# D C# D E D E F# E F# G F# G A B C# A B F# G A B C# B C# D C# D E D E F# E F# G A B G E D C# B B- G F# E B B- G# F# B A G F# E D C# D C# E B- B B B C# D B G# D B A G# A G# F# E A C# D E A G C# F# C A G F# G F# E D G B C D G B F# E C# D E A G D C# C# D E A G A D F# E G F# E D E D C# B C# B A G A G F# E F# E D C# D B C# D E F# E G F# A G# A C# D E F# G F# A G# B B- B D E F# B E- B C E F# G C E C# D F# G A A B C A C G B A B B C# D B D C# G C# E A G F# A G F# E F# D A F# E G F# E D E C# A G F# E D E F# G F# G A B A B A G F# G A B A B C# D C# D C# B A B C# D C# D E F# E F# E D C# D E F# E F# G A G F# E D C# B A G F# D E F# D A F# D B C# D B F# D D F# G A F# D A B A G F# G E C# B D C# B A E D C# B C# A F# E G F# E D A G F# E F# D B A C B A G E C# D E A C# G F# D E F# A C# G D ', 'F# F# F# E D E F# G D C# B A A A A B A G F# E F# G F# E D F# F# F# E D E F# G D C# B A D D D C# D C# B E C# F# F# F# E D E F# G D C# B A A A A B A G F# E F# G F# E D F# F# F# E D E F# G D C# B A D D D C# D C# B E C# A A A B A G F# B A G F# E A G F# E G E- E G A F# B E- E B E F# G G C# E A B C# D E F# G F# E D C# D E B B- E B D E C# F# B- B D D D C# B C# D E D C# B A B C# D C# E D F# E G F# A E F# F# F# E D E F# G D C# B A A A A B A G F# E F# G F# E D F# F# F# A G F# E D C# B C# B A G F# E D C# B A A F# E D D A A A B A G F# B A G F# E A G F# E G E- E G A F# B E- E B E F# G G C# E A B C# D E F# G F# E D C# D E B B- E B D E C# F# B- B D D D C# B C# D E D C# B A B C# D C# E D F# E G F# A E F# F# F# E D E F# G D C# B A A A A B A G F# E F# G F# E D F# F# F# A G F# E D C# B C# B A G F# E D C# B A A F# E D D F# E F# A A B C# D C# D E D E F# A A B C# D F# E F# A A B C# D C# D E D E F# A A B C# D A G A B D D C B A B A D B D C# B C# D E F# E F# A A B C# D C# D E D E F# A A B C# D D D E F# G F# E F# A G E F# E D C# D E C# D D D D E F# G F# E F# A G E F# E D C# D E C# A F# E F# A A B C# D C# D E D E F# A A B C# D A G A B D D C B A B A D B D C# B C# D E F# E F# A A B C# D C# D E D E F# A A B C# D D D E F# G F# E F# A G E F# E D C# D E C# D D D D E F# G F# E F# A G E F# E D C# D E C# A F# E F# A A B C# D C# D E D E F# A A B C# D F# F# F# E D E F# G D C# B A A A A B A G F# E F# G F# E D F# F# F# E D E F# G D C# B A D D D C# D C# B E C# A A A B A G F# B A G F# E A G F# E G E- E G A F# B E- E B E F# G G C# E A B C# D E F# G F# E D C# D E B B- E B D E C# F# B- B D D D C# B C# D E D C# B A B C# D C# E D F# E G F# A E F# F# F# E D E F# G D C# B A A A A B A G F# E F# G F# E D F# F# F# A G F# E D C# B C# B A G F# E D C# B A A F# E D D ']\n",
      "[True, True, True, False, False, False, True, False, True, True, False, True, False, False, False, True, True, True]\n"
     ]
    }
   ],
   "source": [
    "print training_corpus\n",
    "print training_outcomes"
   ]
  },
  {
   "cell_type": "code",
   "execution_count": 22,
   "metadata": {
    "collapsed": false
   },
   "outputs": [
    {
     "name": "stdout",
     "output_type": "stream",
     "text": [
      "TRAINING SET SCORE:  0.722222222222\n"
     ]
    }
   ],
   "source": [
    "vectorizer, classifier = build_feature_vector_and_fit_model(training_corpus, training_outcomes)"
   ]
  },
  {
   "cell_type": "code",
   "execution_count": 23,
   "metadata": {
    "collapsed": false
   },
   "outputs": [
    {
     "name": "stdout",
     "output_type": "stream",
     "text": [
      "Note attributes for file cs1-2all.mid completed\n",
      "Note attributes for file cs1-4sar.mid completed\n",
      "Note attributes for file cs1-6gig.mid completed\n",
      "Note attributes for file cs2-2all.mid completed\n",
      "Note attributes for file cs2-4sar.mid completed\n",
      "Note attributes for file cs2-6gig.mid completed\n",
      "Note attributes for file cs3-2all.mid completed\n",
      "Note attributes for file cs3-4sar.mid completed\n",
      "Note attributes for file cs3-6gig.mid completed\n",
      "Note attributes for file cs4-2all.mid completed\n",
      "Note attributes for file cs4-4sar.mid completed\n",
      "Note attributes for file cs4-6gig.mid completed\n",
      "Note attributes for file cs5-2all.mid completed\n",
      "Note attributes for file cs5-4sar.mid completed\n",
      "Note attributes for file cs5-6gig.mid completed\n",
      "Note attributes for file cs6-2all.mid completed\n",
      "Note attributes for file cs6-4sar.mid completed\n",
      "Note attributes for file cs6-6gig.mid completed\n"
     ]
    }
   ],
   "source": [
    "# Build features for validation data set of midi files.\n",
    "validation_corpus, validation_outcomes = build_feature_corpus(validation_files)"
   ]
  },
  {
   "cell_type": "code",
   "execution_count": 24,
   "metadata": {
    "collapsed": false
   },
   "outputs": [
    {
     "name": "stdout",
     "output_type": "stream",
     "text": [
      "<class 'scipy.sparse.csr.csr_matrix'> (18, 156)\n",
      "PREDICTION: [True, True, True, True, True, True, True, True, True, False, False, False, False, False, False, True, True, True]\n",
      "\n",
      "ACTUAL OUTCOMES:  [True, True, True, False, False, False, True, True, True, False, True, False, False, False, False, False, True, True]\n",
      "13 correct predictions out of 18 sample test files\n"
     ]
    }
   ],
   "source": [
    "predict(vectorizer, classifier, validation_corpus, validation_outcomes)"
   ]
  }
 ],
 "metadata": {
  "kernelspec": {
   "display_name": "Python [default]",
   "language": "python",
   "name": "python2"
  },
  "language_info": {
   "codemirror_mode": {
    "name": "ipython",
    "version": 2
   },
   "file_extension": ".py",
   "mimetype": "text/x-python",
   "name": "python",
   "nbconvert_exporter": "python",
   "pygments_lexer": "ipython2",
   "version": "2.7.12"
  }
 },
 "nbformat": 4,
 "nbformat_minor": 1
}
