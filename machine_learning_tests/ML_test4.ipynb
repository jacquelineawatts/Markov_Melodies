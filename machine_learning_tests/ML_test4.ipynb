{
 "cells": [
  {
   "cell_type": "code",
   "execution_count": 71,
   "metadata": {
    "collapsed": true
   },
   "outputs": [],
   "source": [
    "###############################################\n",
    "\n",
    "import music21\n",
    "import pandas as pd\n",
    "import numpy as np\n",
    "# from pandas.tools.plotting import scatter_matrix\n",
    "# import matplotlib.pyplot as plt\n",
    "from sklearn.linear_model import LogisticRegression\n",
    "from sklearn.feature_extraction.text import TfidfVectorizer\n",
    "from sklearn.pipeline import Pipeline"
   ]
  },
  {
   "cell_type": "code",
   "execution_count": 72,
   "metadata": {
    "collapsed": true
   },
   "outputs": [],
   "source": [
    "def build_feature_corpus(filenames):\n",
    "    \"\"\"Takes MIDI files and creates feature arrays to be used for training.\"\"\"\n",
    "\n",
    "    notes_corpus = []\n",
    "    steps_corpus = []\n",
    "    mode_corpus = []\n",
    "\n",
    "    # Iterating through every other file; for early trials using 1/2 files as training set, and other 1/2 to test\n",
    "    for filename in filenames:\n",
    "\n",
    "        # Convert MIDI file to score and iterate over notes in score\n",
    "        # Save relevant individual Note attributes into list, including Note obj (used to calc interval) and name\n",
    "        score = music21.converter.parse('MIDI test files/Cello solos/' + filename)\n",
    "        note_attributes = []\n",
    "        for note in music21.alpha.theoryAnalysis.theoryAnalyzer.getNotes(score, 0):\n",
    "            if note == None:\n",
    "                pass\n",
    "            else:\n",
    "                note_attributes.append([note, note.name])\n",
    "        print \"Note attributes for file {} completed\".format(filename)\n",
    "\n",
    "        # Creates string of all notes in a score and appends to notes_corpus\n",
    "        all_notes = \"\"\n",
    "        for note in note_attributes:\n",
    "            all_notes += note[1] + \" \"\n",
    "\n",
    "        notes_corpus.append(all_notes)\n",
    "\n",
    "        # Creates string of all steps in a score and appends to steps_corpus\n",
    "        all_steps = \"\"\n",
    "        for i in range(1, len(note_attributes)):\n",
    "            interval = music21.interval.Interval(noteStart=note_attributes[i-1][0], noteEnd=note_attributes[i][0])\n",
    "            step = int((interval.cents)/100)\n",
    "            all_steps += str(step) + ' '\n",
    "\n",
    "        steps_corpus.append(all_steps)\n",
    "\n",
    "        # Determines the mode (major or minor) and assigns to output corpus\n",
    "        # Note: At the moment, this doesn't take into account changes b/w major + minor w/in a score\n",
    "        mode_at_measure_0 = music21.alpha.theoryAnalysis.theoryAnalyzer.getKeyAtMeasure(score, 0).mode\n",
    "        is_major = (mode_at_measure_0 == 'major')\n",
    "        mode_corpus.append(is_major)\n",
    "\n",
    "    return notes_corpus, steps_corpus, mode_corpus\n"
   ]
  },
  {
   "cell_type": "code",
   "execution_count": 73,
   "metadata": {
    "collapsed": true
   },
   "outputs": [],
   "source": [
    "def build_notes_feature_vector_and_fit_model(notes_corpus, mode_corpus):\n",
    "\n",
    "    notes_vectorizer = TfidfVectorizer(min_df=1, analyzer='word', stop_words=None, token_pattern=r'\\w#?-?')\n",
    "\n",
    "    X_train = notes_vectorizer.fit_transform(notes_corpus)\n",
    "    print X_train.shape\n",
    "    print X_train\n",
    "    \n",
    "    y_train = np.ravel(mode_corpus)\n",
    "    print y_train.shape\n",
    "    print y_train\n",
    "\n",
    "    classifier = LogisticRegression()\n",
    "    classifier.fit(X_train, y_train)\n",
    "    print \"TRAINING SET SCORE: \", classifier.score(X_train, y_train)\n",
    "\n",
    "    # notes_pipeline = Pipeline([('notes_vecorizer', notes_vectorizer), ('classifier', classifier)])\n",
    "\n",
    "    return notes_vectorizer, classifier"
   ]
  },
  {
   "cell_type": "code",
   "execution_count": 46,
   "metadata": {
    "collapsed": true
   },
   "outputs": [],
   "source": [
    "# def build_steps_feature_vector_and_fit_model(steps_corpus, mode_corpus):\n",
    "\n",
    "#     steps_vectorizer = TfidfVectorizer(min_df=1, analyzer='word', stop_words=None, ngram_range=(2,3), token_pattern=r'\\d\\d?')\n",
    "\n",
    "#     X_train = steps_vectorizer.fit_transform(steps_corpus)\n",
    "#     y_train = np.ravel(mode_corpus)\n",
    "\n",
    "#     classifier = LogisticRegression()\n",
    "#     classifier.fit(X_train, y_train)\n",
    "#     print \"TRAINING SET SCORE: \", classifier.score(X_train, y_train)\n",
    "\n",
    "#     # notes_pipeline = Pipeline([('notes_vecorizer', notes_vectorizer), ('classifier', classifier)])\n",
    "\n",
    "#     return steps_vectorizer, classifier"
   ]
  },
  {
   "cell_type": "code",
   "execution_count": 76,
   "metadata": {
    "collapsed": false
   },
   "outputs": [],
   "source": [
    "def build_feature_vector_and_predict(vectorizer, classifier, feature_corpus, mode_corpus):\n",
    "    \"\"\"Takes notes_corpus as a list of test scores (each a string of notes).\"\"\"\n",
    "    \n",
    "    X_test = vectorizer.transform(feature_corpus)\n",
    "    print type(X_test), X_test.shape\n",
    "\n",
    "    prediction = classifier.predict(X_test)\n",
    "    prediction = list(prediction)\n",
    "    print 'PREDICTION:', prediction\n",
    "    print \"\"\n",
    "    print 'ACTUAL OUTCOMES: ', mode_corpus\n",
    "    \n",
    "    count = 0\n",
    "    for i in range(len(prediction)):\n",
    "        if prediction[i] == mode_corpus[i]:\n",
    "            count +=1\n",
    "        \n",
    "    print '{} correct predictions out of {} sample test files'.format(count, len(mode_corpus))\n",
    "    print float(count)/len(outcomes) * 100"
   ]
  },
  {
   "cell_type": "code",
   "execution_count": 75,
   "metadata": {
    "collapsed": false
   },
   "outputs": [
    {
     "name": "stdout",
     "output_type": "stream",
     "text": [
      "Note attributes for file cs1-1pre.mid completed\n",
      "Note attributes for file cs1-3cou.mid completed\n",
      "Note attributes for file cs1-5men.mid completed\n",
      "Note attributes for file cs2-1pre.mid completed\n",
      "Note attributes for file cs2-3cou.mid completed\n",
      "Note attributes for file cs2-5men.mid completed\n",
      "Note attributes for file cs3-1pre.mid completed\n",
      "Note attributes for file cs3-3cou.mid completed\n",
      "Note attributes for file cs3-5bou.mid completed\n",
      "Note attributes for file cs4-1pre.mid completed\n",
      "Note attributes for file cs4-3cou.mid completed\n",
      "Note attributes for file cs4-5bou.mid completed\n",
      "Note attributes for file cs5-1pre.mid completed\n",
      "Note attributes for file cs5-3cou.mid completed\n",
      "Note attributes for file cs5-5gav.mid completed\n",
      "Note attributes for file cs6-1pre.mid completed\n",
      "Note attributes for file cs6-3cou.mid completed\n",
      "Note attributes for file cs6-5gav.mid completed\n",
      "(18, 12)\n",
      "  (0, 2)\t0.0146746471739\n",
      "  (0, 7)\t0.0278438545053\n",
      "  (0, 8)\t0.0618816098131\n",
      "  (0, 11)\t0.0271906900465\n",
      "  (0, 4)\t0.0880478830435\n",
      "  (0, 9)\t0.433171268692\n",
      "  (0, 3)\t0.315563684393\n",
      "  (0, 6)\t0.308167590652\n",
      "  (0, 0)\t0.375892035821\n",
      "  (0, 1)\t0.361970108569\n",
      "  (0, 5)\t0.371251393404\n",
      "  (0, 10)\t0.440861029667\n",
      "  (1, 7)\t0.0266779445829\n",
      "  (1, 8)\t0.0667017358032\n",
      "  (1, 4)\t0.077330954018\n",
      "  (1, 9)\t0.326097375038\n",
      "  (1, 3)\t0.293457390411\n",
      "  (1, 6)\t0.295263642614\n",
      "  (1, 0)\t0.440186085617\n",
      "  (1, 1)\t0.400169168743\n",
      "  (1, 5)\t0.386830196451\n",
      "  (1, 10)\t0.453525057909\n",
      "  (2, 2)\t0.200570898655\n",
      "  (2, 7)\t0.135916310383\n",
      "  (2, 8)\t0.140964775772\n",
      "  :\t:\n",
      "  (15, 0)\t0.434167920127\n",
      "  (15, 1)\t0.341604201115\n",
      "  (15, 5)\t0.427556225912\n",
      "  (15, 10)\t0.293118443538\n",
      "  (16, 2)\t0.0175083297672\n",
      "  (16, 7)\t0.00415256480183\n",
      "  (16, 11)\t0.116788419118\n",
      "  (16, 4)\t0.354543677787\n",
      "  (16, 9)\t0.433757027169\n",
      "  (16, 3)\t0.0373730832165\n",
      "  (16, 6)\t0.437708244181\n",
      "  (16, 0)\t0.377883396966\n",
      "  (16, 1)\t0.303137230534\n",
      "  (16, 5)\t0.43186673939\n",
      "  (16, 10)\t0.240848758506\n",
      "  (17, 2)\t0.0210238241005\n",
      "  (17, 7)\t0.019945430117\n",
      "  (17, 4)\t0.294333537407\n",
      "  (17, 9)\t0.502381126985\n",
      "  (17, 3)\t0.00664847670568\n",
      "  (17, 6)\t0.445004276794\n",
      "  (17, 0)\t0.375638933871\n",
      "  (17, 1)\t0.272587544933\n",
      "  (17, 5)\t0.448772177633\n",
      "  (17, 10)\t0.212751254582\n",
      "(18,)\n",
      "[ True  True  True False False False  True False  True  True False  True\n",
      " False False False  True  True  True]\n",
      "TRAINING SET SCORE:  0.777777777778\n"
     ]
    }
   ],
   "source": [
    "\n",
    "# ------------------------------Executable Code --------------------------------\n",
    "\n",
    "# read test files and construct columns\n",
    "filenames = open('test_files.txt').read().split('\\n')\n",
    "\n",
    "# Build training features from input midi files\n",
    "notes_corpus_training, steps_corpus_training, mode_corpus_training = build_feature_corpus(filenames[::2])\n",
    "notes_vectorizer, notes_classifier = build_notes_feature_vector_and_fit_model(notes_corpus_training, mode_corpus_training)"
   ]
  },
  {
   "cell_type": "code",
   "execution_count": 77,
   "metadata": {
    "collapsed": false
   },
   "outputs": [
    {
     "name": "stdout",
     "output_type": "stream",
     "text": [
      "Note attributes for file cs1-2all.mid completed\n",
      "Note attributes for file cs1-4sar.mid completed\n",
      "Note attributes for file cs1-6gig.mid completed\n",
      "Note attributes for file cs2-2all.mid completed\n",
      "Note attributes for file cs2-4sar.mid completed\n",
      "Note attributes for file cs2-6gig.mid completed\n",
      "Note attributes for file cs3-2all.mid completed\n",
      "Note attributes for file cs3-4sar.mid completed\n",
      "Note attributes for file cs3-6gig.mid completed\n",
      "Note attributes for file cs4-2all.mid completed\n",
      "Note attributes for file cs4-4sar.mid completed\n",
      "Note attributes for file cs4-6gig.mid completed\n",
      "Note attributes for file cs5-2all.mid completed\n",
      "Note attributes for file cs5-4sar.mid completed\n",
      "Note attributes for file cs5-6gig.mid completed\n",
      "Note attributes for file cs6-2all.mid completed\n",
      "Note attributes for file cs6-4sar.mid completed\n",
      "Note attributes for file cs6-6gig.mid completed\n",
      "<class 'scipy.sparse.csr.csr_matrix'> (18, 12)\n",
      "PREDICTION: [True, True, True, True, False, True, True, True, True, False, False, False, False, False, False, True, True, True]\n",
      "\n",
      "ACTUAL OUTCOMES:  [True, True, True, False, False, False, True, True, True, False, True, False, False, False, False, False, True, True]\n",
      "14 correct predictions out of 18 sample test files\n"
     ]
    },
    {
     "ename": "NameError",
     "evalue": "global name 'outcomes' is not defined",
     "output_type": "error",
     "traceback": [
      "\u001b[0;31m---------------------------------------------------------------------------\u001b[0m",
      "\u001b[0;31mNameError\u001b[0m                                 Traceback (most recent call last)",
      "\u001b[0;32m<ipython-input-77-cdeb0125b240>\u001b[0m in \u001b[0;36m<module>\u001b[0;34m()\u001b[0m\n\u001b[1;32m      1\u001b[0m \u001b[0;31m# Build features for testing set of midi files.\u001b[0m\u001b[0;34m\u001b[0m\u001b[0;34m\u001b[0m\u001b[0m\n\u001b[1;32m      2\u001b[0m \u001b[0mnotes_corpus_testing\u001b[0m\u001b[0;34m,\u001b[0m \u001b[0msteps_corpus_testing\u001b[0m\u001b[0;34m,\u001b[0m \u001b[0mmode_corpus_testing\u001b[0m \u001b[0;34m=\u001b[0m \u001b[0mbuild_feature_corpus\u001b[0m\u001b[0;34m(\u001b[0m\u001b[0mfilenames\u001b[0m\u001b[0;34m[\u001b[0m\u001b[0;36m1\u001b[0m\u001b[0;34m:\u001b[0m\u001b[0;34m:\u001b[0m\u001b[0;36m2\u001b[0m\u001b[0;34m]\u001b[0m\u001b[0;34m)\u001b[0m\u001b[0;34m\u001b[0m\u001b[0m\n\u001b[0;32m----> 3\u001b[0;31m \u001b[0mbuild_feature_vector_and_predict\u001b[0m\u001b[0;34m(\u001b[0m\u001b[0mnotes_vectorizer\u001b[0m\u001b[0;34m,\u001b[0m \u001b[0mnotes_classifier\u001b[0m\u001b[0;34m,\u001b[0m \u001b[0mnotes_corpus_testing\u001b[0m\u001b[0;34m,\u001b[0m \u001b[0mmode_corpus_testing\u001b[0m\u001b[0;34m)\u001b[0m\u001b[0;34m\u001b[0m\u001b[0m\n\u001b[0m",
      "\u001b[0;32m<ipython-input-76-523e00bcd1ea>\u001b[0m in \u001b[0;36mbuild_feature_vector_and_predict\u001b[0;34m(vectorizer, classifier, feature_corpus, mode_corpus)\u001b[0m\n\u001b[1;32m     17\u001b[0m \u001b[0;34m\u001b[0m\u001b[0m\n\u001b[1;32m     18\u001b[0m     \u001b[0;32mprint\u001b[0m \u001b[0;34m'{} correct predictions out of {} sample test files'\u001b[0m\u001b[0;34m.\u001b[0m\u001b[0mformat\u001b[0m\u001b[0;34m(\u001b[0m\u001b[0mcount\u001b[0m\u001b[0;34m,\u001b[0m \u001b[0mlen\u001b[0m\u001b[0;34m(\u001b[0m\u001b[0mmode_corpus\u001b[0m\u001b[0;34m)\u001b[0m\u001b[0;34m)\u001b[0m\u001b[0;34m\u001b[0m\u001b[0m\n\u001b[0;32m---> 19\u001b[0;31m     \u001b[0;32mprint\u001b[0m \u001b[0mfloat\u001b[0m\u001b[0;34m(\u001b[0m\u001b[0mcount\u001b[0m\u001b[0;34m)\u001b[0m\u001b[0;34m/\u001b[0m\u001b[0mlen\u001b[0m\u001b[0;34m(\u001b[0m\u001b[0moutcomes\u001b[0m\u001b[0;34m)\u001b[0m \u001b[0;34m*\u001b[0m \u001b[0;36m100\u001b[0m\u001b[0;34m\u001b[0m\u001b[0m\n\u001b[0m",
      "\u001b[0;31mNameError\u001b[0m: global name 'outcomes' is not defined"
     ]
    }
   ],
   "source": [
    "# Build features for testing set of midi files.\n",
    "notes_corpus_testing, steps_corpus_testing, mode_corpus_testing = build_feature_corpus(filenames[1::2])\n",
    "build_feature_vector_and_predict(notes_vectorizer, notes_classifier, notes_corpus_testing, mode_corpus_testing)"
   ]
  },
  {
   "cell_type": "code",
   "execution_count": null,
   "metadata": {
    "collapsed": true
   },
   "outputs": [],
   "source": []
  },
  {
   "cell_type": "code",
   "execution_count": 44,
   "metadata": {
    "collapsed": false
   },
   "outputs": [
    {
     "name": "stdout",
     "output_type": "stream",
     "text": [
      "TRAINING SET SCORE:  0.777777777778\n",
      "<class 'scipy.sparse.csr.csr_matrix'> (18, 1812)\n",
      "PREDICTION: [ True  True  True  True  True  True  True  True  True  True  True  True\n",
      "  True  True  True  True  True  True]\n",
      "\n",
      "ACTUAL OUTCOMES:  [True, True, True, False, False, False, True, True, True, False, True, False, False, False, False, False, True, True]\n"
     ]
    }
   ],
   "source": [
    "# steps_vectorizer, steps_classifier = build_steps_feature_vector_and_fit_model(steps_corpus_training, mode_corpus_training)\n",
    "# build_feature_vector_and_predict(steps_vectorizer, steps_classifier, steps_corpus_testing, mode_corpus_testing)"
   ]
  }
 ],
 "metadata": {
  "anaconda-cloud": {},
  "kernelspec": {
   "display_name": "Python [default]",
   "language": "python",
   "name": "python2"
  },
  "language_info": {
   "codemirror_mode": {
    "name": "ipython",
    "version": 2
   },
   "file_extension": ".py",
   "mimetype": "text/x-python",
   "name": "python",
   "nbconvert_exporter": "python",
   "pygments_lexer": "ipython2",
   "version": "2.7.12"
  }
 },
 "nbformat": 4,
 "nbformat_minor": 1
}
