{
 "cells": [
  {
   "cell_type": "code",
   "execution_count": 1,
   "metadata": {
    "collapsed": true
   },
   "outputs": [],
   "source": [
    "import pandas as pd\n",
    "import numpy as np\n",
    "from pandas.tools.plotting import scatter_matrix\n",
    "import matplotlib.pyplot as plt\n",
    "%matplotlib inline\n",
    "from sklearn.linear_model import LogisticRegression\n",
    "from sklearn.feature_extraction.text import TfidfVectorizer"
   ]
  },
  {
   "cell_type": "code",
   "execution_count": null,
   "metadata": {
    "collapsed": true
   },
   "outputs": [],
   "source": [
    "# Do features really care if they fall under category 'note count' or 'step count'? \n",
    "# i.e. should I treat them all as equal? And not nested under my two high-level feature groups\n",
    "\n",
    "# Should interval between notes be calculated as below too, or by 'DictVectorizer'?"
   ]
  },
  {
   "cell_type": "code",
   "execution_count": 29,
   "metadata": {
    "collapsed": false
   },
   "outputs": [
    {
     "name": "stdout",
     "output_type": "stream",
     "text": [
      "[[ 0.4804584   0.          0.63174505  0.          0.37311881  0.4804584\n",
      "   0.        ]\n",
      " [ 0.          0.53409337  0.          0.53409337  0.31544415  0.40619178\n",
      "   0.40619178]\n",
      " [ 0.84492112  0.          0.          0.          0.32807831  0.\n",
      "   0.42246056]]\n"
     ]
    }
   ],
   "source": [
    "#DOESN'T RECOGNIZE VOCABULARY WHEN CORPUS CONSISTS OF ONLY 1-2 LETTER 'WORDS'\n",
    "# Must define token_pattern using a regex\n",
    "\n",
    "#CASE 1: doesn't work\n",
    "notes_corpus = ['A B C D', 'A# B- C D E-', 'A C A E-']\n",
    "\n",
    "#CASE 2: doesn't work\n",
    "# notes_corpus = ['A# B- C# D-', 'A# B- D- E-', 'A- C# A- E-']\n",
    "\n",
    "#CASE 3: works\n",
    "# notes_corpus = ['noteA noteB noteC noteD', 'noteA# noteB- noteC noteD noteE-', 'noteA noteC noteA noteE-']\n",
    "\n",
    "# vocab = ['A-', 'A', 'A#', 'B-', 'B', 'C', '#C', 'D-', 'D', 'D#', 'E-', 'E', 'F', \"F#\", 'G-', 'G', 'G#']\n",
    "note_vectorizer = TfidfVectorizer(stop_words=None, min_df=1, analyzer='word', token_pattern=r'\\w#?-?')\n",
    "\n",
    "# # Test to see if analyzer + token_pattern are working... :(\n",
    "analyze = note_vectorizer.build_analyzer()\n",
    "analyze('A B- C') == (['A', 'B-', 'C'])\n",
    "\n",
    "print note_vectorizer.fit_transform(notes_corpus).todense()"
   ]
  },
  {
   "cell_type": "code",
   "execution_count": 25,
   "metadata": {
    "collapsed": false
   },
   "outputs": [
    {
     "name": "stdout",
     "output_type": "stream",
     "text": [
      "[[ 0.6490196   0.6490196   0.          0.39692207]\n",
      " [ 0.25297042  0.50594085  0.7643884   0.30941914]\n",
      " [ 0.70710678  0.70710678  0.          0.        ]\n",
      " [ 0.67501827  0.33750914  0.50991745  0.41282212]]\n"
     ]
    }
   ],
   "source": [
    "step_corpus = ['2 4 2 1 1', '4 2 1 2 3 3', '2 1 1 2', '3 2 1 1 4']\n",
    "step_vectorizer = TfidfVectorizer(stop_words=None, min_df=1, analyzer='word', token_pattern=r'\\d\\d?')\n",
    "print step_vectorizer.fit_transform(step_corpus).todense()"
   ]
  }
 ],
 "metadata": {
  "anaconda-cloud": {},
  "kernelspec": {
   "display_name": "Python [default]",
   "language": "python",
   "name": "python2"
  },
  "language_info": {
   "codemirror_mode": {
    "name": "ipython",
    "version": 2
   },
   "file_extension": ".py",
   "mimetype": "text/x-python",
   "name": "python",
   "nbconvert_exporter": "python",
   "pygments_lexer": "ipython2",
   "version": "2.7.12"
  }
 },
 "nbformat": 4,
 "nbformat_minor": 1
}
