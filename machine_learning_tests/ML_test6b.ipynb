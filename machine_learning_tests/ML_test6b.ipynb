{
 "cells": [
  {
   "cell_type": "code",
   "execution_count": 2,
   "metadata": {
    "collapsed": true
   },
   "outputs": [],
   "source": [
    "\"\"\"THIS TESTER IS USING THE FOLLOWING:\n",
    "\n",
    "Dataset: \n",
    "Music21 corpus 'ryansMammoth'\n",
    "\n",
    "Testing features:\n",
    "1) Notes frequency feature vector, ngrams = range of 1-2.\n",
    "\n",
    "Classifier: \n",
    "Logistic Regression\n",
    "\n",
    "\"\"\"\n",
    "\n",
    "###############################################\n",
    "\n",
    "import music21\n",
    "import pandas as pd\n",
    "import numpy as np\n",
    "# from pandas.tools.plotting import scatter_matrix\n",
    "# import matplotlib.pyplot as plt\n",
    "from sklearn.linear_model import LogisticRegression\n",
    "from sklearn.feature_extraction.text import TfidfVectorizer\n",
    "from sklearn.pipeline import Pipeline\n",
    "from sklearn import cross_validation\n",
    "from sklearn import metrics"
   ]
  },
  {
   "cell_type": "code",
   "execution_count": 49,
   "metadata": {
    "collapsed": true
   },
   "outputs": [],
   "source": [
    "def build_feature_corpus(corpus):\n",
    "    \"\"\"Takes MIDI files and creates feature arrays to be used for training.\"\"\"\n",
    "\n",
    "    notes_corpus = []\n",
    "    outcomes = []\n",
    "    # Convert MIDI file to score and iterate over notes in score\n",
    "    # Save relevant individual Note attributes into list, including Note obj (used to calc interval) and name\n",
    "    for score in corpus:\n",
    "        score = music21.corpus.parse(score)\n",
    "        all_notes = \"\"\n",
    "        for note in music21.alpha.theoryAnalysis.theoryAnalyzer.getNotes(score,0):\n",
    "            if note == None:\n",
    "                pass\n",
    "            else:\n",
    "                all_notes += note.name + \" \"\n",
    "\n",
    "        notes_corpus.append(all_notes)\n",
    "        \n",
    "        mode_at_measure_0 = music21.alpha.theoryAnalysis.theoryAnalyzer.getKeyAtMeasure(score, 0).mode\n",
    "        outcomes.append((mode_at_measure_0 == 'major'))\n",
    "\n",
    "    print \"Done\"\n",
    "    return notes_corpus, outcomes"
   ]
  },
  {
   "cell_type": "code",
   "execution_count": null,
   "metadata": {
    "collapsed": false
   },
   "outputs": [],
   "source": []
  },
  {
   "cell_type": "code",
   "execution_count": 35,
   "metadata": {
    "collapsed": true
   },
   "outputs": [],
   "source": [
    "def build_feature_vector_and_fit_model(training_corpus, outcomes):\n",
    "\n",
    "    vectorizer = TfidfVectorizer(min_df=1, analyzer='word', stop_words=None, ngram_range=(1,2), token_pattern=r'\\w#?-?')\n",
    "    \n",
    "    X_train = vectorizer.fit_transform(training_corpus)\n",
    "    X_train = X_train.toarray()\n",
    "    y_train = np.ravel(outcomes)\n",
    "\n",
    "    classifier_LR = LogisticRegression()\n",
    "    classifier_LR.fit(X_train, y_train)\n",
    "\n",
    "    print \"TRAINING SET SCORE: \", classifier_LR.score(X_train, y_train)\n",
    "\n",
    "    return vectorizer, classifier_LR"
   ]
  },
  {
   "cell_type": "code",
   "execution_count": 47,
   "metadata": {
    "collapsed": false
   },
   "outputs": [],
   "source": [
    "def predict(vectorizer, classifier, validation_corpus, outcomes):\n",
    "    \"\"\"Takes notes_corpus as a list of test scores (each a string of notes).\"\"\"\n",
    "    \n",
    "    X_test = vectorizer.transform(validation_corpus)\n",
    "    print type(X_test), X_test.shape\n",
    "    X_test = X_test.toarray()\n",
    "\n",
    "    prediction = classifier.predict(X_test)\n",
    "    prediction = list(prediction)\n",
    "    print 'PREDICTION:', prediction\n",
    "    print \"\"\n",
    "    print 'ACTUAL OUTCOMES: ', outcomes\n",
    "    \n",
    "    count = 0\n",
    "    for i in range(len(prediction)):\n",
    "        if prediction[i] == outcomes[i]:\n",
    "            count +=1\n",
    "        \n",
    "    print '{} correct predictions out of {} sample test files'.format(count, len(outcomes))\n",
    "    print float(count)/len(outcomes) * 100"
   ]
  },
  {
   "cell_type": "code",
   "execution_count": 30,
   "metadata": {
    "collapsed": false
   },
   "outputs": [],
   "source": [
    "# ------------------------------Executable Code --------------------------------\n",
    "scores = music21.corpus.getComposer('ryansMammoth')\n",
    "\n",
    "training_files = scores[::2]\n",
    "validation_files = scores[1::2]"
   ]
  },
  {
   "cell_type": "code",
   "execution_count": 33,
   "metadata": {
    "collapsed": false
   },
   "outputs": [
    {
     "name": "stdout",
     "output_type": "stream",
     "text": [
      "Done\n"
     ]
    }
   ],
   "source": [
    "# Build training features from input midi files\n",
    "training_corpus, training_outcomes = build_feature_corpus(training_files)"
   ]
  },
  {
   "cell_type": "code",
   "execution_count": 36,
   "metadata": {
    "collapsed": false
   },
   "outputs": [
    {
     "name": "stdout",
     "output_type": "stream",
     "text": [
      "TRAINING SET SCORE:  0.854716981132\n"
     ]
    }
   ],
   "source": [
    "vectorizer, classifier = build_feature_vector_and_fit_model(training_corpus, training_outcomes)"
   ]
  },
  {
   "cell_type": "code",
   "execution_count": 39,
   "metadata": {
    "collapsed": false
   },
   "outputs": [
    {
     "name": "stdout",
     "output_type": "stream",
     "text": [
      "Done\n"
     ]
    }
   ],
   "source": [
    "# Build features for validation data set of midi files.\n",
    "validation_corpus, validation_outcomes = build_feature_corpus(validation_files)"
   ]
  },
  {
   "cell_type": "code",
   "execution_count": 48,
   "metadata": {
    "collapsed": false
   },
   "outputs": [
    {
     "name": "stdout",
     "output_type": "stream",
     "text": [
      "<class 'scipy.sparse.csr.csr_matrix'> (529, 192)\n",
      "PREDICTION: [True, True, True, True, True, True, True, True, True, True, True, True, True, True, True, True, True, True, True, True, True, True, True, True, True, True, True, True, True, True, True, True, True, True, True, False, True, True, True, True, True, True, True, True, True, True, True, True, True, True, True, True, True, True, True, True, True, False, True, True, True, True, True, True, True, True, True, True, True, True, True, True, True, True, True, True, True, True, True, True, True, True, True, True, True, True, True, True, True, True, True, True, True, True, True, True, True, True, True, True, True, True, True, False, True, True, True, True, True, True, True, True, True, True, True, True, True, True, True, True, True, True, True, True, True, True, True, True, True, True, True, True, True, True, True, True, True, True, True, True, True, True, True, True, False, True, True, True, True, True, True, True, True, True, True, True, True, True, True, True, True, True, True, True, True, True, True, True, True, True, True, True, True, True, True, True, True, True, True, True, True, True, True, True, True, True, True, True, True, True, True, True, True, True, True, True, True, True, True, True, True, True, True, True, True, True, True, True, True, True, True, True, True, True, True, True, True, True, True, True, True, True, True, True, True, True, True, True, True, True, True, True, True, True, True, True, True, True, True, True, True, True, True, True, True, True, True, True, True, True, True, True, True, True, True, True, True, True, True, True, True, True, True, True, True, True, True, True, True, True, True, True, True, True, True, True, True, True, True, True, True, True, True, True, True, True, True, True, True, True, True, True, True, True, True, False, True, True, True, True, True, True, True, True, True, True, True, True, True, True, True, True, True, True, True, True, True, True, True, True, True, True, True, True, True, True, True, True, True, True, True, True, True, True, True, True, True, True, True, True, True, True, True, True, True, True, True, True, True, True, True, True, True, True, True, True, True, True, True, True, True, True, True, True, True, True, True, True, True, True, True, True, True, True, True, True, True, True, True, True, True, True, True, True, True, True, True, True, True, True, True, True, True, True, True, True, True, True, True, True, False, True, True, True, True, True, True, True, True, True, True, True, True, True, True, True, True, True, True, True, True, True, True, True, True, True, True, True, True, True, True, True, True, True, True, True, True, True, True, True, True, True, True, True, True, True, True, True, True, True, True, True, True, True, True, True, True, True, True, True, True, True, True, True, True, True, True, True, True, True, True, True, True, True, True, True, True, True, True, True, True, True, True, True, False, True, True, True, True, True, True, True, True, True, True, True, True, True, True, True, True, True, True, True, True, True, True, True, True, True, True, True, True, True, True, True, True, True, True, True, True, True, True, True, True, True, True, True, True]\n",
      "\n",
      "ACTUAL OUTCOMES:  [True, False, False, True, True, True, True, False, True, True, True, False, True, True, False, True, True, True, True, True, True, True, True, True, True, True, True, True, True, False, True, True, True, True, True, False, False, True, True, True, True, True, True, False, True, True, False, True, True, True, True, True, True, True, True, True, True, False, True, True, True, False, True, True, False, True, True, True, True, False, False, True, True, True, False, True, True, True, True, False, True, True, True, True, True, True, True, True, True, False, True, True, True, True, False, True, True, True, True, True, True, True, True, True, True, True, True, True, True, True, True, True, True, True, True, True, True, True, True, True, False, True, False, True, True, True, False, True, True, True, True, True, True, True, True, True, False, True, True, True, False, True, True, True, True, True, True, True, False, True, True, False, True, True, False, True, True, True, True, True, True, False, True, True, True, True, True, True, True, True, True, False, True, True, True, True, True, True, False, True, True, True, False, True, False, False, True, False, True, True, True, True, True, True, True, True, True, True, True, True, True, False, True, True, True, False, True, False, True, True, False, False, True, True, True, True, True, True, True, True, True, False, True, True, True, True, True, True, True, True, True, True, True, False, True, False, True, True, True, True, True, True, True, True, True, True, True, True, True, True, True, True, True, True, True, True, True, False, True, True, True, False, True, True, True, True, True, False, False, True, True, True, True, True, False, True, True, True, True, True, True, True, True, True, True, True, False, True, False, True, True, False, True, True, True, False, True, True, True, True, True, True, True, True, True, True, True, True, True, True, True, True, True, True, False, True, True, True, False, True, True, False, True, False, True, False, True, False, True, True, True, True, True, True, True, True, True, True, True, True, True, True, True, True, True, True, True, True, True, True, True, False, True, True, False, True, True, True, True, True, True, True, True, True, True, True, False, True, True, True, False, True, True, True, True, True, False, True, True, True, True, False, False, True, True, True, False, True, True, True, True, True, True, True, True, True, True, True, True, False, False, True, True, True, True, True, True, True, False, True, True, True, True, True, True, True, True, True, True, False, True, True, False, True, False, True, False, True, True, True, True, True, True, True, False, False, True, False, True, False, False, True, True, True, True, False, True, True, True, True, True, True, True, True, True, True, False, True, False, True, True, True, True, True, True, True, False, True, True, True, True, True, True, True, True, True, True, True, True, True, True, False, True, True, False, True, True, True, True, True, True, True, True, True, True, True, True, True, True, True, False, True, True, True, True, True, True, True, True, False, True, False, True, False, True, False, True, True, True, False, True, False, True, True, True, True, True, True, True]\n",
      "442 correct predictions out of 529 sample test files\n",
      "83.5538752363\n"
     ]
    }
   ],
   "source": [
    "predict(vectorizer, classifier, validation_corpus, validation_outcomes)"
   ]
  }
 ],
 "metadata": {
  "kernelspec": {
   "display_name": "Python [default]",
   "language": "python",
   "name": "python2"
  },
  "language_info": {
   "codemirror_mode": {
    "name": "ipython",
    "version": 2
   },
   "file_extension": ".py",
   "mimetype": "text/x-python",
   "name": "python",
   "nbconvert_exporter": "python",
   "pygments_lexer": "ipython2",
   "version": "2.7.12"
  }
 },
 "nbformat": 4,
 "nbformat_minor": 1
}
