{
 "cells": [
  {
   "cell_type": "code",
   "execution_count": 1,
   "metadata": {
    "collapsed": true
   },
   "outputs": [],
   "source": [
    "\"\"\"THIS TESTER IS USING THE FOLLOWING:\n",
    "\n",
    "Dataset: \n",
    "Music21 corpus 'ryansMammoth'\n",
    "\n",
    "Testing features:\n",
    "1) Notes frequency feature vector, ngrams = range of 1-2.\n",
    "\n",
    "Classifier: \n",
    "Logistic Regression\n",
    "\n",
    "\"\"\"\n",
    "\n",
    "###############################################\n",
    "\n",
    "import music21\n",
    "import pandas as pd\n",
    "import numpy as np\n",
    "# from pandas.tools.plotting import scatter_matrix\n",
    "# import matplotlib.pyplot as plt\n",
    "from sklearn.linear_model import LogisticRegression\n",
    "from sklearn.feature_extraction.text import TfidfVectorizer\n",
    "from sklearn.pipeline import Pipeline\n",
    "from sklearn import cross_validation\n",
    "from sklearn import metrics"
   ]
  },
  {
   "cell_type": "code",
   "execution_count": 2,
   "metadata": {
    "collapsed": true
   },
   "outputs": [],
   "source": [
    "def score_generator(scores):\n",
    "\n",
    "    num_scores = len(filepaths)\n",
    "    n = 0\n",
    "\n",
    "    while n < num_scores:\n",
    "        yield music21.corpus.parse(filepaths[n])\n",
    "        n += 1"
   ]
  },
  {
   "cell_type": "code",
   "execution_count": 3,
   "metadata": {
    "collapsed": true
   },
   "outputs": [],
   "source": [
    "def part_generator(score):\n",
    "    \n",
    "    parts = [part for part in score.parts]\n",
    "    num_parts = len(parts)\n",
    "    n = 0\n",
    "\n",
    "    while n < num_parts:\n",
    "        yield n\n",
    "        n += 1"
   ]
  },
  {
   "cell_type": "code",
   "execution_count": 49,
   "metadata": {
    "collapsed": true
   },
   "outputs": [],
   "source": [
    "def build_feature_corpus(score, n):\n",
    "    \"\"\"Takes MIDI files and creates feature arrays to be used for training.\"\"\"\n",
    "            \n",
    "    # Convert MIDI file to score and iterate over notes in score\n",
    "    # Save relevant individual Note attributes into list, including Note obj (used to calc interval) and name\n",
    "    score = music21.corpus.parse(score)\n",
    "    all_notes = \"\"\n",
    "\n",
    "    for note in music21.alpha.theoryAnalysis.theoryAnalyzer.getNotes(score, n):\n",
    "        if note == None:\n",
    "            pass\n",
    "        else:\n",
    "            all_notes += note.name + \" \"\n",
    "\n",
    "    mode_at_measure_0 = music21.alpha.theoryAnalysis.theoryAnalyzer.getKeyAtMeasure(score, 0).mode\n",
    "    outcome = (mode_at_measure_0 == 'major')\n",
    "\n",
    "    print \"Done\"\n",
    "    return all_notes, outcome"
   ]
  },
  {
   "cell_type": "code",
   "execution_count": null,
   "metadata": {
    "collapsed": false
   },
   "outputs": [],
   "source": [
    "def build_pipeline():\n",
    "\n",
    "    feature_vectorizer = TfidfVectorizer(min_df=1, analyzer='word', stop_words=None, ngram_range=(1, 2), token_pattern=r'\\w#?-?')\n",
    "    classifier = LogisticRegression()\n",
    "    \n",
    "    return feature_vectorizer, classifier"
   ]
  },
  {
   "cell_type": "code",
   "execution_count": null,
   "metadata": {
    "collapsed": true
   },
   "outputs": [],
   "source": [
    "def train_classifier(feature_vectorizer, classifier, features, outcomes):\n",
    "    \n",
    "    cv = cross_validation.StratifiedKFold(outcomes, 5)\n",
    "    feature_vectors = feature_vectorizer.fit_transform(features)\n",
    "    outcomes = np.ravel(outcomes)\n",
    "    \n",
    "    # Running into an issue here splitting dataset bc features is not a vectorized object\n",
    "    # yet, still a dictionary. Might need to keep vectorizer and classifier separated.\n",
    "    precision, recall = [], []\n",
    "\n",
    "    for training_data, testing_data in cv:\n",
    "        X_train = feature_vectors[training_data]\n",
    "        X_test = feature_vectors[testing_data]\n",
    "        y_train = outcomes[training_data]\n",
    "        y_test = outcomes[testing_data]\n",
    "        \n",
    "        classifier.fit(X_train, y_train)\n",
    "        y_predicted = classifier.predict(X_test)\n",
    "        p,r,_,_ = metrics.precision_recall_fscore_support(y_test, y_predicted)\n",
    "        precision.append(p[1])\n",
    "        recall.append(r[1])\n",
    "    \n",
    "    return classifier, precision, recall"
   ]
  },
  {
   "cell_type": "code",
   "execution_count": 35,
   "metadata": {
    "collapsed": true
   },
   "outputs": [],
   "source": [
    "# def build_feature_vector_and_fit_model(training_corpus, outcomes):\n",
    "\n",
    "#     vectorizer = TfidfVectorizer(min_df=1, analyzer='word', stop_words=None, ngram_range=(1,2), token_pattern=r'\\w#?-?')\n",
    "    \n",
    "#     X_train = vectorizer.fit_transform(training_corpus)\n",
    "#     X_train = X_train.toarray()\n",
    "#     y_train = np.ravel(outcomes)\n",
    "\n",
    "#     classifier_LR = LogisticRegression()\n",
    "#     classifier_LR.fit(X_train, y_train)\n",
    "\n",
    "#     print \"TRAINING SET SCORE: \", classifier_LR.score(X_train, y_train)\n",
    "\n",
    "#     return vectorizer, classifier_LR"
   ]
  },
  {
   "cell_type": "code",
   "execution_count": 47,
   "metadata": {
    "collapsed": false
   },
   "outputs": [],
   "source": [
    "def predict(vectorizer, classifier, validation_corpus, outcomes):\n",
    "    \"\"\"Takes notes_corpus as a list of test scores (each a string of notes).\"\"\"\n",
    "    \n",
    "    X_test = vectorizer.transform(validation_corpus)\n",
    "    print type(X_test), X_test.shape\n",
    "    X_test = X_test.toarray()\n",
    "\n",
    "    prediction = classifier.predict(X_test)\n",
    "    prediction = list(prediction)\n",
    "    print 'PREDICTION:', prediction\n",
    "    print \"\"\n",
    "    print 'ACTUAL OUTCOMES: ', outcomes\n",
    "    \n",
    "    count = 0\n",
    "    for i in range(len(prediction)):\n",
    "        if prediction[i] == outcomes[i]:\n",
    "            count +=1\n",
    "        \n",
    "    print '{} correct predictions out of {} sample test files'.format(count, len(outcomes))\n",
    "    print float(count)/len(outcomes) * 100"
   ]
  },
  {
   "cell_type": "code",
   "execution_count": 30,
   "metadata": {
    "collapsed": false
   },
   "outputs": [],
   "source": [
    "# ------------------------------Executable Code --------------------------------\n",
    "\n",
    "# Read test files and construct feature and outcome datasets\n",
    "scores_celtic = music21.corpus.getComposer('ryansMammoth')\n",
    "scores_classical = music21.corpus.getComposer('bach') \n",
    "scores = scores_celtic + scores_classical\n"
   ]
  },
  {
   "cell_type": "code",
   "execution_count": null,
   "metadata": {
    "collapsed": true
   },
   "outputs": [],
   "source": [
    "notes_corpus = []\n",
    "outcomes = []\n",
    "\n",
    "for score in (score_generator(scores)):\n",
    "    print \"Beginning new score: \", score\n",
    "    for n in (part_generator(score)):            \n",
    "        features, outcome = build_feature_corpus(score, n)\n",
    "        notes_corpus.append(features)\n",
    "        outcomes.append(outcome)"
   ]
  },
  {
   "cell_type": "code",
   "execution_count": null,
   "metadata": {
    "collapsed": true
   },
   "outputs": [],
   "source": [
    "feature_vectorizer, classifier = build_pipeline()\n",
    "classifier, precision, recall = train_classifier(feature_vectorizer, classifier, notes_corpus, outcomes)"
   ]
  },
  {
   "cell_type": "code",
   "execution_count": 33,
   "metadata": {
    "collapsed": false
   },
   "outputs": [
    {
     "name": "stdout",
     "output_type": "stream",
     "text": [
      "Done\n"
     ]
    }
   ],
   "source": [
    "# Build training features from input midi files\n",
    "# training_corpus, training_outcomes = build_feature_corpus(training_files)"
   ]
  },
  {
   "cell_type": "code",
   "execution_count": 36,
   "metadata": {
    "collapsed": false
   },
   "outputs": [
    {
     "name": "stdout",
     "output_type": "stream",
     "text": [
      "TRAINING SET SCORE:  0.854716981132\n"
     ]
    }
   ],
   "source": [
    "vectorizer, classifier = build_feature_vector_and_fit_model(training_corpus, training_outcomes)"
   ]
  },
  {
   "cell_type": "code",
   "execution_count": 39,
   "metadata": {
    "collapsed": false
   },
   "outputs": [
    {
     "name": "stdout",
     "output_type": "stream",
     "text": [
      "Done\n"
     ]
    }
   ],
   "source": [
    "# Build features for validation data set of midi files.\n",
    "validation_corpus, validation_outcomes = build_feature_corpus(validation_files)"
   ]
  },
  {
   "cell_type": "code",
   "execution_count": 48,
   "metadata": {
    "collapsed": false
   },
   "outputs": [
    {
     "name": "stdout",
     "output_type": "stream",
     "text": [
      "<class 'scipy.sparse.csr.csr_matrix'> (529, 192)\n",
      "PREDICTION: [True, True, True, True, True, True, True, True, True, True, True, True, True, True, True, True, True, True, True, True, True, True, True, True, True, True, True, True, True, True, True, True, True, True, True, False, True, True, True, True, True, True, True, True, True, True, True, True, True, True, True, True, True, True, True, True, True, False, True, True, True, True, True, True, True, True, True, True, True, True, True, True, True, True, True, True, True, True, True, True, True, True, True, True, True, True, True, True, True, True, True, True, True, True, True, True, True, True, True, True, True, True, True, False, True, True, True, True, True, True, True, True, True, True, True, True, True, True, True, True, True, True, True, True, True, True, True, True, True, True, True, True, True, True, True, True, True, True, True, True, True, True, True, True, False, True, True, True, True, True, True, True, True, True, True, True, True, True, True, True, True, True, True, True, True, True, True, True, True, True, True, True, True, True, True, True, True, True, True, True, True, True, True, True, True, True, True, True, True, True, True, True, True, True, True, True, True, True, True, True, True, True, True, True, True, True, True, True, True, True, True, True, True, True, True, True, True, True, True, True, True, True, True, True, True, True, True, True, True, True, True, True, True, True, True, True, True, True, True, True, True, True, True, True, True, True, True, True, True, True, True, True, True, True, True, True, True, True, True, True, True, True, True, True, True, True, True, True, True, True, True, True, True, True, True, True, True, True, True, True, True, True, True, True, True, True, True, True, True, True, True, True, True, True, True, False, True, True, True, True, True, True, True, True, True, True, True, True, True, True, True, True, True, True, True, True, True, True, True, True, True, True, True, True, True, True, True, True, True, True, True, True, True, True, True, True, True, True, True, True, True, True, True, True, True, True, True, True, True, True, True, True, True, True, True, True, True, True, True, True, True, True, True, True, True, True, True, True, True, True, True, True, True, True, True, True, True, True, True, True, True, True, True, True, True, True, True, True, True, True, True, True, True, True, True, True, True, True, True, True, False, True, True, True, True, True, True, True, True, True, True, True, True, True, True, True, True, True, True, True, True, True, True, True, True, True, True, True, True, True, True, True, True, True, True, True, True, True, True, True, True, True, True, True, True, True, True, True, True, True, True, True, True, True, True, True, True, True, True, True, True, True, True, True, True, True, True, True, True, True, True, True, True, True, True, True, True, True, True, True, True, True, True, True, False, True, True, True, True, True, True, True, True, True, True, True, True, True, True, True, True, True, True, True, True, True, True, True, True, True, True, True, True, True, True, True, True, True, True, True, True, True, True, True, True, True, True, True, True]\n",
      "\n",
      "ACTUAL OUTCOMES:  [True, False, False, True, True, True, True, False, True, True, True, False, True, True, False, True, True, True, True, True, True, True, True, True, True, True, True, True, True, False, True, True, True, True, True, False, False, True, True, True, True, True, True, False, True, True, False, True, True, True, True, True, True, True, True, True, True, False, True, True, True, False, True, True, False, True, True, True, True, False, False, True, True, True, False, True, True, True, True, False, True, True, True, True, True, True, True, True, True, False, True, True, True, True, False, True, True, True, True, True, True, True, True, True, True, True, True, True, True, True, True, True, True, True, True, True, True, True, True, True, False, True, False, True, True, True, False, True, True, True, True, True, True, True, True, True, False, True, True, True, False, True, True, True, True, True, True, True, False, True, True, False, True, True, False, True, True, True, True, True, True, False, True, True, True, True, True, True, True, True, True, False, True, True, True, True, True, True, False, True, True, True, False, True, False, False, True, False, True, True, True, True, True, True, True, True, True, True, True, True, True, False, True, True, True, False, True, False, True, True, False, False, True, True, True, True, True, True, True, True, True, False, True, True, True, True, True, True, True, True, True, True, True, False, True, False, True, True, True, True, True, True, True, True, True, True, True, True, True, True, True, True, True, True, True, True, True, False, True, True, True, False, True, True, True, True, True, False, False, True, True, True, True, True, False, True, True, True, True, True, True, True, True, True, True, True, False, True, False, True, True, False, True, True, True, False, True, True, True, True, True, True, True, True, True, True, True, True, True, True, True, True, True, True, False, True, True, True, False, True, True, False, True, False, True, False, True, False, True, True, True, True, True, True, True, True, True, True, True, True, True, True, True, True, True, True, True, True, True, True, True, False, True, True, False, True, True, True, True, True, True, True, True, True, True, True, False, True, True, True, False, True, True, True, True, True, False, True, True, True, True, False, False, True, True, True, False, True, True, True, True, True, True, True, True, True, True, True, True, False, False, True, True, True, True, True, True, True, False, True, True, True, True, True, True, True, True, True, True, False, True, True, False, True, False, True, False, True, True, True, True, True, True, True, False, False, True, False, True, False, False, True, True, True, True, False, True, True, True, True, True, True, True, True, True, True, False, True, False, True, True, True, True, True, True, True, False, True, True, True, True, True, True, True, True, True, True, True, True, True, True, False, True, True, False, True, True, True, True, True, True, True, True, True, True, True, True, True, True, True, False, True, True, True, True, True, True, True, True, False, True, False, True, False, True, False, True, True, True, False, True, False, True, True, True, True, True, True, True]\n",
      "442 correct predictions out of 529 sample test files\n",
      "83.5538752363\n"
     ]
    }
   ],
   "source": [
    "predict(vectorizer, classifier, validation_corpus, validation_outcomes)"
   ]
  }
 ],
 "metadata": {
  "anaconda-cloud": {},
  "kernelspec": {
   "display_name": "Python [default]",
   "language": "python",
   "name": "python2"
  },
  "language_info": {
   "codemirror_mode": {
    "name": "ipython",
    "version": 2
   },
   "file_extension": ".py",
   "mimetype": "text/x-python",
   "name": "python",
   "nbconvert_exporter": "python",
   "pygments_lexer": "ipython2",
   "version": "2.7.12"
  }
 },
 "nbformat": 4,
 "nbformat_minor": 1
}
