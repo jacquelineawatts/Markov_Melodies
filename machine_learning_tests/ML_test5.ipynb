{
 "cells": [
  {
   "cell_type": "code",
   "execution_count": 14,
   "metadata": {
    "collapsed": false
   },
   "outputs": [
    {
     "name": "stdout",
     "output_type": "stream",
     "text": [
      "\n"
     ]
    }
   ],
   "source": [
    "###############################################\n",
    "\n",
    "import music21\n",
    "import pandas as pd\n",
    "import numpy as np\n",
    "# from pandas.tools.plotting import scatter_matrix\n",
    "# import matplotlib.pyplot as plt\n",
    "from sklearn.linear_model import LogisticRegression\n",
    "from sklearn.feature_extraction.text import TfidfVectorizer\n",
    "from sklearn.pipeline import Pipeline, FeatureUnion"
   ]
  },
  {
   "cell_type": "code",
   "execution_count": 15,
   "metadata": {
    "collapsed": true
   },
   "outputs": [],
   "source": [
    "def build_feature_corpus(filenames):\n",
    "    \"\"\"Takes MIDI files and creates feature arrays to be used for training.\"\"\"\n",
    "\n",
    "    feature_corpus = []\n",
    "    \n",
    "    # Iterating through every other file; for early trials using 1/2 files as training set, and other 1/2 to test\n",
    "    for filename in filenames:\n",
    "\n",
    "        # Convert MIDI file to score and iterate over notes in score\n",
    "        # Save relevant individual Note attributes into list, including Note obj (used to calc interval) and name\n",
    "        score = music21.converter.parse('MIDI test files/Cello solos/' + filename)\n",
    "        note_attributes = []\n",
    "        for note in music21.alpha.theoryAnalysis.theoryAnalyzer.getNotes(score, 0):\n",
    "            if note == None:\n",
    "                pass\n",
    "            else:\n",
    "                note_attributes.append([note, note.name])\n",
    "        print \"Note attributes for file {} completed\".format(filename)\n",
    "\n",
    "        # Creates string of all notes in a score and appends to notes_corpus\n",
    "        all_notes = \"\"\n",
    "        for note in note_attributes:\n",
    "            all_notes += note[1] + \" \"\n",
    "\n",
    "        notes_corpus.append(all_notes)\n",
    "\n",
    "        # Creates string of all steps in a score and appends to steps_corpus\n",
    "        all_steps = \"\"\n",
    "        for i in range(1, len(note_attributes)):\n",
    "            interval = music21.interval.Interval(noteStart=note_attributes[i-1][0], noteEnd=note_attributes[i][0])\n",
    "            step = int((interval.cents)/100)\n",
    "            all_steps += str(step) + ' '\n",
    "\n",
    "        steps_corpus.append(all_steps)\n",
    "\n",
    "        # Determines the mode (major or minor) and assigns to output corpus\n",
    "        # Note: At the moment, this doesn't take into account changes b/w major + minor w/in a score\n",
    "        mode_at_measure_0 = music21.alpha.theoryAnalysis.theoryAnalyzer.getKeyAtMeasure(score, 0).mode\n",
    "        is_major = (mode_at_measure_0 == 'major')\n",
    "        mode_corpus.append(is_major)\n",
    "\n",
    "    return notes_corpus, steps_corpus, mode_corpus\n"
   ]
  },
  {
   "cell_type": "code",
   "execution_count": 29,
   "metadata": {
    "collapsed": true
   },
   "outputs": [],
   "source": [
    "def build_feature_vector_and_fit_model(notes_corpus, steps_corpus, mode_corpus):\n",
    "    \n",
    "    pipeline = Pipeline([\n",
    "        ('features', FeatureUnion(\n",
    "            transformer_list=[\n",
    "                ('notes', Pipeline([\n",
    "                    ('selector', ItemSelector(key='notes')),\n",
    "                    ('tfidf', TfidfVectorizer(min_df=1, analyzer='word', stop_words=None, token_pattern=r'\\w#?-?')),\n",
    "                ])),\n",
    "                ('steps', Pipeline([\n",
    "                    ('selector', ItemSelector(key='steps')),        \n",
    "                    ('tfidf', TfidfVectorizer(min_df=1, analyzer='word', stop_words=None, ngram_range=(2, 3), token_pattern=r'\\d\\d?'))\n",
    "                ])),\n",
    "            ])),\n",
    "                        \n",
    "        ('classifier', LogisticRegression()),\n",
    "        ])\n",
    "        \n",
    "    y_train = np.ravel(mode_corpus)\n",
    "\n",
    "    pipeline.fit(X_train, y_train)\n",
    "    print \"TRAINING SET SCORE: \", classifier.score(X_train, y_train)\n",
    "\n",
    "    return notes_vectorizer, steps_vectorizer, classifier"
   ]
  },
  {
   "cell_type": "code",
   "execution_count": 10,
   "metadata": {
    "collapsed": true
   },
   "outputs": [],
   "source": [
    "def build_feature_vector_and_predict(notes_vectorizer, steps_vectorizer, classifier, notes_corpus, steps_corpus, mode_corpus):\n",
    "    \"\"\"Takes notes_corpus as a list of test scores (each a string of notes).\"\"\"\n",
    "    \n",
    "    X_test = FeatureUnion([('notes_vect', notes_vectorizer.transform(notes_corpus)), \n",
    "                           ('steps_vect', steps_vectorizer.transform(steps_corpus))])\n",
    "\n",
    "    print X_test.shape\n",
    "\n",
    "    prediction = classifier.predict(X_test)\n",
    "    print 'PREDICTION:', prediction\n",
    "    print \"\"\n",
    "    print 'ACTUAL OUTCOMES: ', mode_corpus"
   ]
  },
  {
   "cell_type": "code",
   "execution_count": 30,
   "metadata": {
    "collapsed": false
   },
   "outputs": [
    {
     "name": "stdout",
     "output_type": "stream",
     "text": [
      "Note attributes for file cs1-1pre.mid completed\n",
      "Note attributes for file cs1-3cou.mid completed\n",
      "Note attributes for file cs1-5men.mid completed\n",
      "Note attributes for file cs2-1pre.mid completed\n",
      "Note attributes for file cs2-3cou.mid completed\n",
      "Note attributes for file cs2-5men.mid completed\n",
      "Note attributes for file cs3-1pre.mid completed\n",
      "Note attributes for file cs3-3cou.mid completed\n",
      "Note attributes for file cs3-5bou.mid completed\n",
      "Note attributes for file cs4-1pre.mid completed\n",
      "Note attributes for file cs4-3cou.mid completed\n",
      "Note attributes for file cs4-5bou.mid completed\n",
      "Note attributes for file cs5-1pre.mid completed\n",
      "Note attributes for file cs5-3cou.mid completed\n",
      "Note attributes for file cs5-5gav.mid completed\n",
      "Note attributes for file cs6-1pre.mid completed\n",
      "Note attributes for file cs6-3cou.mid completed\n",
      "Note attributes for file cs6-5gav.mid completed\n",
      "<class 'scipy.sparse.csr.csr_matrix'> (18, 12)\n",
      "<class 'scipy.sparse.csr.csr_matrix'> (18, 1812)\n",
      "<type 'tuple'>"
     ]
    },
    {
     "ename": "AttributeError",
     "evalue": "'tuple' object has no attribute 'shape'",
     "output_type": "error",
     "traceback": [
      "\u001b[0;31m---------------------------------------------------------------------------\u001b[0m",
      "\u001b[0;31mAttributeError\u001b[0m                            Traceback (most recent call last)",
      "\u001b[0;32m<ipython-input-30-f301dafc8c45>\u001b[0m in \u001b[0;36m<module>\u001b[0;34m()\u001b[0m\n\u001b[1;32m      7\u001b[0m \u001b[0;31m# Build training features from input midi files\u001b[0m\u001b[0;34m\u001b[0m\u001b[0;34m\u001b[0m\u001b[0m\n\u001b[1;32m      8\u001b[0m \u001b[0mnotes_corpus_training\u001b[0m\u001b[0;34m,\u001b[0m \u001b[0msteps_corpus_training\u001b[0m\u001b[0;34m,\u001b[0m \u001b[0mmode_corpus_training\u001b[0m \u001b[0;34m=\u001b[0m \u001b[0mbuild_feature_corpus\u001b[0m\u001b[0;34m(\u001b[0m\u001b[0mfilenames\u001b[0m\u001b[0;34m[\u001b[0m\u001b[0;34m:\u001b[0m\u001b[0;34m:\u001b[0m\u001b[0;36m2\u001b[0m\u001b[0;34m]\u001b[0m\u001b[0;34m)\u001b[0m\u001b[0;34m\u001b[0m\u001b[0m\n\u001b[0;32m----> 9\u001b[0;31m \u001b[0mnotes_vectorizer\u001b[0m\u001b[0;34m,\u001b[0m \u001b[0msteps_vectorizer\u001b[0m\u001b[0;34m,\u001b[0m \u001b[0mclassifier\u001b[0m \u001b[0;34m=\u001b[0m \u001b[0mbuild_feature_vector_and_fit_model\u001b[0m\u001b[0;34m(\u001b[0m\u001b[0mnotes_corpus_training\u001b[0m\u001b[0;34m,\u001b[0m \u001b[0msteps_corpus_training\u001b[0m\u001b[0;34m,\u001b[0m \u001b[0mmode_corpus_training\u001b[0m\u001b[0;34m)\u001b[0m\u001b[0;34m\u001b[0m\u001b[0m\n\u001b[0m",
      "\u001b[0;32m<ipython-input-29-6e30dd249df9>\u001b[0m in \u001b[0;36mbuild_feature_vector_and_fit_model\u001b[0;34m(notes_corpus, steps_corpus, mode_corpus)\u001b[0m\n\u001b[1;32m     10\u001b[0m \u001b[0;34m\u001b[0m\u001b[0m\n\u001b[1;32m     11\u001b[0m     \u001b[0mX_train\u001b[0m \u001b[0;34m=\u001b[0m \u001b[0;34m(\u001b[0m\u001b[0mnotes_vector\u001b[0m\u001b[0;34m,\u001b[0m \u001b[0msteps_vector\u001b[0m\u001b[0;34m)\u001b[0m\u001b[0;34m\u001b[0m\u001b[0m\n\u001b[0;32m---> 12\u001b[0;31m     \u001b[0;32mprint\u001b[0m \u001b[0mtype\u001b[0m\u001b[0;34m(\u001b[0m\u001b[0mX_train\u001b[0m\u001b[0;34m)\u001b[0m\u001b[0;34m,\u001b[0m \u001b[0mX_train\u001b[0m\u001b[0;34m.\u001b[0m\u001b[0mshape\u001b[0m\u001b[0;34m\u001b[0m\u001b[0m\n\u001b[0m\u001b[1;32m     13\u001b[0m \u001b[0;34m\u001b[0m\u001b[0m\n\u001b[1;32m     14\u001b[0m     \u001b[0my_train\u001b[0m \u001b[0;34m=\u001b[0m \u001b[0mnp\u001b[0m\u001b[0;34m.\u001b[0m\u001b[0mravel\u001b[0m\u001b[0;34m(\u001b[0m\u001b[0mmode_corpus\u001b[0m\u001b[0;34m)\u001b[0m\u001b[0;34m\u001b[0m\u001b[0m\n",
      "\u001b[0;31mAttributeError\u001b[0m: 'tuple' object has no attribute 'shape'"
     ]
    }
   ],
   "source": [
    "\n",
    "# ------------------------------Executable Code --------------------------------\n",
    "\n",
    "# read test files and construct columns\n",
    "filenames = open('test_files.txt').read().split('\\n')\n",
    "\n",
    "training_files = filenames[::2]\n",
    "validation_files = filenames[1::2]\n",
    "\n",
    "# Build training features from input midi files\n",
    "notes_corpus_training, steps_corpus_training, mode_corpus_training = build_feature_corpus(training_files)\n",
    "notes_vectorizer, steps_vectorizer, classifier = build_feature_vector_and_fit_model(notes_corpus_training, steps_corpus_training, mode_corpus_training)"
   ]
  },
  {
   "cell_type": "code",
   "execution_count": 22,
   "metadata": {
    "collapsed": false
   },
   "outputs": [
    {
     "name": "stdout",
     "output_type": "stream",
     "text": [
      "Note attributes for file cs1-2all.mid completed\n",
      "Note attributes for file cs1-4sar.mid completed\n",
      "Note attributes for file cs1-6gig.mid completed\n",
      "Note attributes for file cs2-2all.mid completed\n",
      "Note attributes for file cs2-4sar.mid completed\n",
      "Note attributes for file cs2-6gig.mid completed\n",
      "Note attributes for file cs3-2all.mid completed\n",
      "Note attributes for file cs3-4sar.mid completed\n",
      "Note attributes for file cs3-6gig.mid completed\n",
      "Note attributes for file cs4-2all.mid completed\n",
      "Note attributes for file cs4-4sar.mid completed\n",
      "Note attributes for file cs4-6gig.mid completed\n",
      "Note attributes for file cs5-2all.mid completed\n",
      "Note attributes for file cs5-4sar.mid completed\n",
      "Note attributes for file cs5-6gig.mid completed\n",
      "Note attributes for file cs6-2all.mid completed\n",
      "Note attributes for file cs6-4sar.mid completed\n",
      "Note attributes for file cs6-6gig.mid completed\n"
     ]
    }
   ],
   "source": [
    "# Build features for testing set of midi files.\n",
    "notes_corpus_testing, steps_corpus_testing, mode_corpus_testing = build_feature_corpus(filenames[1::2])"
   ]
  },
  {
   "cell_type": "code",
   "execution_count": 23,
   "metadata": {
    "collapsed": false
   },
   "outputs": [
    {
     "name": "stdout",
     "output_type": "stream",
     "text": [
      "<class 'scipy.sparse.csr.csr_matrix'> (18, 12)\n",
      "PREDICTION: [ True  True  True  True False  True  True  True  True False False False\n",
      " False False False  True  True  True]\n",
      "\n",
      "ACTUAL OUTCOMES:  [True, True, True, False, False, False, True, True, True, False, True, False, False, False, False, False, True, True]\n"
     ]
    }
   ],
   "source": [
    "build_feature_vector_and_predict(notes_vectorizer, classifier, notes_corpus_testing, mode_corpus_testing)"
   ]
  }
 ],
 "metadata": {
  "anaconda-cloud": {},
  "kernelspec": {
   "display_name": "Python [default]",
   "language": "python",
   "name": "python2"
  },
  "language_info": {
   "codemirror_mode": {
    "name": "ipython",
    "version": 2
   },
   "file_extension": ".py",
   "mimetype": "text/x-python",
   "name": "python",
   "nbconvert_exporter": "python",
   "pygments_lexer": "ipython2",
   "version": "2.7.12"
  }
 },
 "nbformat": 4,
 "nbformat_minor": 1
}
