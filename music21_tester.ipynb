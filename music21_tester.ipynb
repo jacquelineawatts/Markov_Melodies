{
 "cells": [
  {
   "cell_type": "code",
   "execution_count": 23,
   "metadata": {
    "collapsed": false
   },
   "outputs": [
    {
     "name": "stdout",
     "output_type": "stream",
     "text": [
      "<class 'music21.stream.Score'>\n"
     ]
    }
   ],
   "source": [
    "# %load test.py\n",
    "import pandas as pd\n",
    "from pandas.tools.plotting import scatter_matrix\n",
    "import matplotlib.pyplot as plt\n",
    "%matplotlib inline\n",
    "\n",
    "import music21\n",
    "test = music21.converter.parse('MIDI test files/Cello solos/cs1-1pre.mid')\n",
    "print type(test)"
   ]
  },
  {
   "cell_type": "code",
   "execution_count": 22,
   "metadata": {
    "collapsed": true
   },
   "outputs": [],
   "source": [
    "#(test imports as type = Score)\n",
    "\n",
    "# -------- THIS IS RELAVENT FOR CREATING NOTES FILES FOR MARKOV ---------\n",
    "# notes = []\n",
    "# for note in music21.alpha.theoryAnalysis.theoryAnalyzer.getNotes(test, 0):\n",
    "#     if note == None:\n",
    "#         notes.append(None)\n",
    "#     else:\n",
    "#         note_attributes = [note.name, str(note.octave), str(note.frequency)]\n",
    "#         notes.append(note_attributes)\n",
    "#         print ','.join(note_attributes) + '\\n'"
   ]
  },
  {
   "cell_type": "code",
   "execution_count": 6,
   "metadata": {
    "collapsed": false
   },
   "outputs": [],
   "source": [
    "pd.set_option('display.max_columns', None)"
   ]
  },
  {
   "cell_type": "code",
   "execution_count": 96,
   "metadata": {
    "collapsed": false
   },
   "outputs": [
    {
     "name": "stdout",
     "output_type": "stream",
     "text": [
      "note object:  <music21.note.Note D>\n",
      "nameWithOctave:  D3\n",
      "name:  D\n",
      "octave:  3\n",
      "duration object:  <music21.duration.Duration 0.25>\n",
      "offset :  3.75\n"
     ]
    }
   ],
   "source": [
    "# --------- HOW TO ACCESS NOTE OBJECT WITHIN THE SCORE ----------\n",
    "note_objects = [note for note in music21.alpha.theoryAnalysis.theoryAnalyzer.getNotes(test,0)]\n",
    "single_note = note_objects[15]\n",
    "print \"note object: \", single_note\n",
    "print \"nameWithOctave: \", single_note.nameWithOctave\n",
    "print \"name: \", single_note.name\n",
    "print \"octave: \", single_note.octave\n",
    "print \"duration object: \", single_note.duration\n",
    "\n",
    "# Using the first number of this offset value as measure number, access key.\n",
    "print \"offset : \", single_note.offset\n",
    "measure = int(single_note.offset)"
   ]
  },
  {
   "cell_type": "code",
   "execution_count": 95,
   "metadata": {
    "collapsed": false
   },
   "outputs": [],
   "source": [
    "# dir(single_note)"
   ]
  },
  {
   "cell_type": "code",
   "execution_count": 93,
   "metadata": {
    "collapsed": false
   },
   "outputs": [],
   "source": [
    "# UNCOMMENT TO SEE ALL DATA INCLUDED IN AN IMPORTED SCORE\n",
    "# test.show('text')\n",
    "# dir(test)"
   ]
  },
  {
   "cell_type": "code",
   "execution_count": 127,
   "metadata": {
    "collapsed": false
   },
   "outputs": [
    {
     "name": "stdout",
     "output_type": "stream",
     "text": [
      "<class 'music21.key.Key'>\n",
      "Key:  G major\n",
      "Major or Minor:  major\n"
     ]
    }
   ],
   "source": [
    "# --------- HOW TO GET KEY OBJECT FROM SCORE (must access by measure?) ---------\n",
    "key = music21.alpha.theoryAnalysis.theoryAnalyzer.getKeyAtMeasure(test, measure)\n",
    "print type(key)\n",
    "print \"Key: \", key.name\n",
    "print \"Major or Minor: \", key.mode\n",
    "\n",
    "# print \"Parallel minor: \", key.getParallelMinor().name\n",
    "# print \"Relative minor: \", key.getRelativeMinor().name"
   ]
  },
  {
   "cell_type": "code",
   "execution_count": 147,
   "metadata": {
    "collapsed": false
   },
   "outputs": [
    {
     "name": "stdout",
     "output_type": "stream",
     "text": [
      "<music21.interval.Interval d12> 18.0\n"
     ]
    }
   ],
   "source": [
    "# ----------- HOW TO GET CALCULATE THE STEPS BETWEEN NOTES ------------\n",
    "n1 = music21.note.Note('c#3')\n",
    "n2 = music21.note.Note('g4')\n",
    "interval = music21.interval.Interval(noteStart=n1, noteEnd=n2)\n",
    "steps = (interval.cents/100.00)\n",
    "print interval, steps"
   ]
  },
  {
   "cell_type": "code",
   "execution_count": null,
   "metadata": {
    "collapsed": false
   },
   "outputs": [],
   "source": []
  }
 ],
 "metadata": {
  "anaconda-cloud": {},
  "kernelspec": {
   "display_name": "Python [default]",
   "language": "python",
   "name": "python2"
  },
  "language_info": {
   "codemirror_mode": {
    "name": "ipython",
    "version": 2
   },
   "file_extension": ".py",
   "mimetype": "text/x-python",
   "name": "python",
   "nbconvert_exporter": "python",
   "pygments_lexer": "ipython2",
   "version": "2.7.12"
  }
 },
 "nbformat": 4,
 "nbformat_minor": 1
}
