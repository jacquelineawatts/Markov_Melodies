{
 "cells": [
  {
   "cell_type": "code",
   "execution_count": 1,
   "metadata": {
    "collapsed": false
   },
   "outputs": [],
   "source": [
    "\"\"\" This is the first stab at learning features... \n",
    "\n",
    "CURRENTLY TESTING:\n",
    "Training feature 1: Avg of intervals\n",
    "Training feature 2: Avg # of steps between notes\n",
    "\n",
    "    Normaled by scaling both to range of 0 to 1:\n",
    "        x_scaled = (x - min(x)) / (max(x) - min(x))    \n",
    "\n",
    "FEEDBACK FROM HENRY:\n",
    "Averaging takes away from those features being the distinctive factor differentiating between major/minor. \n",
    "Selecting features is essential in machine learning and should be thought of as selective enough distinctive \n",
    "attributes to still be differentiable, but not so many that all elements are completely unique (still need to \n",
    "find the common thread between similar elements)\n",
    "\n",
    "Try out histograms! Rather than averaging note intervals, potentially group frequencies of specific intervals\n",
    "into buckets representating ranges that help differentiate between major vs. minor. \n",
    "\n",
    "Could also look into frequency of notes, or give weight to specific notes over others in cost function. Downplay \n",
    "weight of those notes too commons across both major/minor keys, and potentially play up weight of notes that are\n",
    "in infrequently used keys.\n",
    "\n",
    "\"\"\"\n",
    "\n",
    "###############################################\n",
    "\n",
    "import music21\n",
    "import pandas as pd\n",
    "import numpy as np\n",
    "from pandas.tools.plotting import scatter_matrix\n",
    "import matplotlib.pyplot as plt\n",
    "%matplotlib inline\n"
   ]
  },
  {
   "cell_type": "code",
   "execution_count": 11,
   "metadata": {
    "collapsed": false
   },
   "outputs": [
    {
     "name": "stdout",
     "output_type": "stream",
     "text": [
      "Note attributes for file cs1-1pre.mid completed\n",
      "Global attributes include: {'avg_interval': 43.62011257051648, 'avg_steps': 2.0135135135135136, 'is_major': True}\n",
      "Note attributes for file cs1-2all.mid completed\n",
      "Global attributes include: {'avg_interval': 38.09590546731629, 'avg_steps': 1.723986856516977, 'is_major': True}\n",
      "Note attributes for file cs1-3cou.mid completed\n",
      "Global attributes include: {'avg_interval': 40.036517564724036, 'avg_steps': 1.970406905055487, 'is_major': True}\n",
      "Note attributes for file cs1-4sar.mid completed\n",
      "Global attributes include: {'avg_interval': 32.51300563173759, 'avg_steps': 1.5752895752895753, 'is_major': True}\n",
      "Note attributes for file cs1-5men.mid completed\n",
      "Global attributes include: {'avg_interval': 38.89915221991372, 'avg_steps': 1.9563182527301093, 'is_major': True}\n",
      "Note attributes for file cs1-6gig.mid completed\n",
      "Global attributes include: {'avg_interval': 35.11262636200494, 'avg_steps': 1.6288782816229117, 'is_major': True}\n",
      "Note attributes for file cs2-1pre.mid completed\n",
      "Global attributes include: {'avg_interval': 36.29464255821443, 'avg_steps': 1.6745655608214849, 'is_major': False}\n",
      "Note attributes for file cs2-2all.mid completed\n",
      "Global attributes include: {'avg_interval': 34.49664402455149, 'avg_steps': 1.6614349775784754, 'is_major': False}\n",
      "Note attributes for file cs2-3cou.mid completed\n",
      "Global attributes include: {'avg_interval': 43.44867198580663, 'avg_steps': 1.8583765112262522, 'is_major': False}\n",
      "Note attributes for file cs2-4sar.mid completed\n",
      "Global attributes include: {'avg_interval': 32.284258641974205, 'avg_steps': 1.6330275229357798, 'is_major': False}\n",
      "Note attributes for file cs2-5men.mid completed\n",
      "Global attributes include: {'avg_interval': 35.95671803366065, 'avg_steps': 1.548155737704918, 'is_major': False}\n",
      "Note attributes for file cs2-6gig.mid completed\n",
      "Global attributes include: {'avg_interval': 35.514008059471564, 'avg_steps': 1.7322206095791002, 'is_major': False}\n",
      "Note attributes for file cs3-1pre.mid completed\n",
      "Global attributes include: {'avg_interval': 46.41456557411534, 'avg_steps': 2.331175836030205, 'is_major': True}\n",
      "Note attributes for file cs3-2all.mid completed\n",
      "Global attributes include: {'avg_interval': 37.60914014921492, 'avg_steps': 1.8593919652551574, 'is_major': True}\n",
      "Note attributes for file cs3-3cou.mid completed\n",
      "Global attributes include: {'avg_interval': 40.533802385666014, 'avg_steps': 2.0732451678535098, 'is_major': False}\n",
      "Note attributes for file cs3-4sar.mid completed\n",
      "Global attributes include: {'avg_interval': 30.377755521775875, 'avg_steps': 1.5384615384615385, 'is_major': True}\n",
      "Note attributes for file cs3-5bou.mid completed\n",
      "Global attributes include: {'avg_interval': 37.43699939372892, 'avg_steps': 1.7164179104477613, 'is_major': True}\n",
      "Note attributes for file cs3-6gig.mid completed\n",
      "Global attributes include: {'avg_interval': 39.527989267393565, 'avg_steps': 1.7612752721617417, 'is_major': True}\n",
      "Note attributes for file cs4-1pre.mid completed\n",
      "Global attributes include: {'avg_interval': 51.442899304072846, 'avg_steps': 2.6700507614213196, 'is_major': True}\n",
      "Note attributes for file cs4-2all.mid completed\n",
      "Global attributes include: {'avg_interval': 32.10578416697918, 'avg_steps': 1.5430622009569377, 'is_major': False}\n",
      "Note attributes for file cs4-3cou.mid completed\n",
      "Global attributes include: {'avg_interval': 37.51382292459488, 'avg_steps': 1.809100998890122, 'is_major': False}\n",
      "Note attributes for file cs4-4sar.mid completed\n",
      "Global attributes include: {'avg_interval': 30.585223014741295, 'avg_steps': 1.3312101910828025, 'is_major': True}\n",
      "Note attributes for file cs4-5bou.mid completed\n",
      "Global attributes include: {'avg_interval': 33.06226780361219, 'avg_steps': 1.5704334365325077, 'is_major': True}\n",
      "Note attributes for file cs4-6gig.mid completed\n",
      "Global attributes include: {'avg_interval': 34.29006165467613, 'avg_steps': 1.689119170984456, 'is_major': False}\n",
      "Note attributes for file cs5-1pre.mid completed\n",
      "Global attributes include: {'avg_interval': 31.451150819211218, 'avg_steps': 1.5427107061503418, 'is_major': False}\n",
      "Note attributes for file cs5-2all.mid completed\n",
      "Global attributes include: {'avg_interval': 37.39284616618724, 'avg_steps': 1.641399416909621, 'is_major': False}\n",
      "Note attributes for file cs5-3cou.mid completed\n",
      "Global attributes include: {'avg_interval': 32.78373961524916, 'avg_steps': 1.471042471042471, 'is_major': False}\n",
      "Note attributes for file cs5-4sar.mid completed\n",
      "Global attributes include: {'avg_interval': 53.62636694443191, 'avg_steps': 2.9232558139534883, 'is_major': False}\n",
      "Note attributes for file cs5-5gav.mid completed\n",
      "Global attributes include: {'avg_interval': 35.40008006973625, 'avg_steps': 1.7047920433996384, 'is_major': False}\n",
      "Note attributes for file cs5-6gig.mid completed\n",
      "Global attributes include: {'avg_interval': 33.46770598553468, 'avg_steps': 1.610344827586207, 'is_major': False}\n",
      "Note attributes for file cs6-1pre.mid completed\n",
      "Global attributes include: {'avg_interval': 57.29622506682826, 'avg_steps': 1.8376413570274637, 'is_major': True}\n",
      "Note attributes for file cs6-2all.mid completed\n",
      "Global attributes include: {'avg_interval': 50.71756054988156, 'avg_steps': 1.6396614268440146, 'is_major': False}\n",
      "Note attributes for file cs6-3cou.mid completed\n",
      "Global attributes include: {'avg_interval': 47.87504901218948, 'avg_steps': 1.8136256851996868, 'is_major': True}\n",
      "Note attributes for file cs6-4sar.mid completed\n",
      "Global attributes include: {'avg_interval': 29.097086127110465, 'avg_steps': 1.1677018633540373, 'is_major': True}\n",
      "Note attributes for file cs6-5gav.mid completed\n",
      "Global attributes include: {'avg_interval': 44.671389268644155, 'avg_steps': 1.2679045092838197, 'is_major': True}\n",
      "Note attributes for file cs6-6gig.mid completed\n",
      "Global attributes include: {'avg_interval': 55.657426290662045, 'avg_steps': 1.864247311827957, 'is_major': True}\n"
     ]
    }
   ],
   "source": [
    "training_data = []\n",
    "\n",
    "# read test files and construct columns\n",
    "filenames = open('test_files.txt').read().split('\\n')\n",
    "\n",
    "for filename in filenames:\n",
    "    \n",
    "    # Create empty score_instance to hold data of training features + outcome\n",
    "    score_instance = {} \n",
    "\n",
    "    # Convert MIDI file to score and iterate over notes in score \n",
    "    # Save relevant individual Note attributes into list (incl. Note obj, name, freq, major/minor at given measure)\n",
    "    score = music21.converter.parse('MIDI test files/Cello solos/' + filename)\n",
    "    note_attributes = []\n",
    "    for note in music21.alpha.theoryAnalysis.theoryAnalyzer.getNotes(score, 0):\n",
    "        if note == None:\n",
    "            pass\n",
    "        else:\n",
    "            measure = int(note.offset)\n",
    "            key = music21.alpha.theoryAnalysis.theoryAnalyzer.getKeyAtMeasure(score, measure)\n",
    "            note_attributes.append([note, note.nameWithOctave, note.frequency, key.mode])\n",
    "    print \"Note attributes for file {} completed\".format(filename)\n",
    "            \n",
    "    # Calculate global attributes of score (incl: Avg interval, avg steps, is_major)\n",
    "    # Note: At the moment, this doesn't take into account changes b/w major + minor w/in a score\n",
    "    intervals, steps = [], []\n",
    "    for i in range(1, len(note_attributes)):\n",
    "        interval = abs(float(note_attributes[i][2]) - float(note_attributes[i-1][2]))\n",
    "        intervals.append(interval)\n",
    "\n",
    "        interval_obj = music21.interval.Interval(noteStart=note_attributes[i][0], noteEnd=note_attributes[i-1][0])\n",
    "        step = (abs(interval_obj.cents)/200.00)\n",
    "        steps.append(step)\n",
    "\n",
    "    mode_at_measure_0 = music21.alpha.theoryAnalysis.theoryAnalyzer.getKeyAtMeasure(score, 0).mode\n",
    "    is_major = (mode_at_measure_0 == 'major')\n",
    "    avg_interval = sum(intervals) / len(intervals)\n",
    "    avg_steps = sum(steps) / len(steps)\n",
    "\n",
    "    \n",
    "    # Saves all global attributes into a dictionary and appends to global set of all training data\n",
    "    # Used to create df and plt below\n",
    "    score_instance['avg_interval'] = avg_interval\n",
    "    score_instance['avg_steps'] = avg_steps\n",
    "    score_instance['is_major'] = is_major    \n",
    "    \n",
    "    print \"Global attributes include: {}\".format(score_instance)\n",
    "    training_data.append(score_instance)"
   ]
  },
  {
   "cell_type": "code",
   "execution_count": 12,
   "metadata": {
    "collapsed": false
   },
   "outputs": [
    {
     "name": "stdout",
     "output_type": "stream",
     "text": [
      "[{'scaled_steps': 0.5182081132450155, 'avg_interval': 43.62011257051648, 'avg_steps': 2.0135135135135136, 'is_major': True, 'scaled_interval': 0.48498333674470145}, {'scaled_steps': 0.6831285116740555, 'avg_interval': 38.09590546731629, 'avg_steps': 1.723986856516977, 'is_major': True, 'scaled_interval': 0.6808831872688421}, {'scaled_steps': 0.5427625329159731, 'avg_interval': 40.036517564724036, 'avg_steps': 1.970406905055487, 'is_major': True, 'scaled_interval': 0.6120650541493787}, {'scaled_steps': 0.7678295720867119, 'avg_interval': 32.51300563173759, 'avg_steps': 1.5752895752895753, 'is_major': True, 'scaled_interval': 0.878864403912139}, {'scaled_steps': 0.5507877219570545, 'avg_interval': 38.89915221991372, 'avg_steps': 1.9563182527301093, 'is_major': True, 'scaled_interval': 0.6523983901154768}, {'scaled_steps': 0.7373043317117077, 'avg_interval': 35.11262636200494, 'avg_steps': 1.6288782816229117, 'is_major': True, 'scaled_interval': 0.7866764567615314}, {'scaled_steps': 0.7112799083762854, 'avg_interval': 36.29464255821443, 'avg_steps': 1.6745655608214849, 'is_major': False, 'scaled_interval': 0.7447597089226586}, {'scaled_steps': 0.7187593613651987, 'avg_interval': 34.49664402455149, 'avg_steps': 1.6614349775784754, 'is_major': False, 'scaled_interval': 0.8085204690475183}, {'scaled_steps': 0.6065773725516226, 'avg_interval': 43.44867198580663, 'avg_steps': 1.8583765112262522, 'is_major': False, 'scaled_interval': 0.4910629757392236}, {'scaled_steps': 0.7349408376638881, 'avg_interval': 32.284258641974205, 'avg_steps': 1.6330275229357798, 'is_major': False, 'scaled_interval': 0.8869762469812621}, {'scaled_steps': 0.783285569651123, 'avg_interval': 35.95671803366065, 'avg_steps': 1.548155737704918, 'is_major': False, 'scaled_interval': 0.756743213996206}, {'scaled_steps': 0.678438394882537, 'avg_interval': 35.514008059471564, 'avg_steps': 1.7322206095791002, 'is_major': False, 'scaled_interval': 0.7724426286178894}, {'scaled_steps': 0.337261055247611, 'avg_interval': 46.41456557411534, 'avg_steps': 2.331175836030205, 'is_major': True, 'scaled_interval': 0.38588623276671646}, {'scaled_steps': 0.6059989488417967, 'avg_interval': 37.60914014921492, 'avg_steps': 1.8593919652551574, 'is_major': True, 'scaled_interval': 0.698144895831715}, {'scaled_steps': 0.4841837220723032, 'avg_interval': 40.533802385666014, 'avg_steps': 2.0732451678535098, 'is_major': False, 'scaled_interval': 0.5944303021803544}, {'scaled_steps': 0.7888075869266782, 'avg_interval': 30.377755521775875, 'avg_steps': 1.5384615384615385, 'is_major': True, 'scaled_interval': 0.9545848049685794}, {'scaled_steps': 0.6874399405917662, 'avg_interval': 37.43699939372892, 'avg_steps': 1.7164179104477613, 'is_major': True, 'scaled_interval': 0.7042493643353099}, {'scaled_steps': 0.6618882554962079, 'avg_interval': 39.527989267393565, 'avg_steps': 1.7612752721617417, 'is_major': True, 'scaled_interval': 0.6300985231293206}, {'scaled_steps': 0.14423085798400523, 'avg_interval': 51.442899304072846, 'avg_steps': 2.6700507614213196, 'is_major': True, 'scaled_interval': 0.20757108134642904}, {'scaled_steps': 0.786186953995501, 'avg_interval': 32.10578416697918, 'avg_steps': 1.5430622009569377, 'is_major': False, 'scaled_interval': 0.8933053223256036}, {'scaled_steps': 0.634645728023868, 'avg_interval': 37.51382292459488, 'avg_steps': 1.809100998890122, 'is_major': False, 'scaled_interval': 0.7015250424675326}, {'scaled_steps': 0.9068622598166615, 'avg_interval': 30.585223014741295, 'avg_steps': 1.3312101910828025, 'is_major': True, 'scaled_interval': 0.9472275770259486}, {'scaled_steps': 0.7705957296037791, 'avg_interval': 33.06226780361219, 'avg_steps': 1.5704334365325077, 'is_major': True, 'scaled_interval': 0.8593864271892054}, {'scaled_steps': 0.7029898696919137, 'avg_interval': 34.29006165467613, 'avg_steps': 1.689119170984456, 'is_major': False, 'scaled_interval': 0.8158463086881179}, {'scaled_steps': 0.7863871727392633, 'avg_interval': 31.451150819211218, 'avg_steps': 1.5427107061503418, 'is_major': False, 'scaled_interval': 0.9165199796655809}, {'scaled_steps': 0.7301720329393265, 'avg_interval': 37.39284616618724, 'avg_steps': 1.641399416909621, 'is_major': False, 'scaled_interval': 0.7058151294331757}, {'scaled_steps': 0.8272108882869392, 'avg_interval': 32.78373961524916, 'avg_steps': 1.471042471042471, 'is_major': False, 'scaled_interval': 0.8692636148919379}, {'scaled_steps': 0.0, 'avg_interval': 53.62636694443191, 'avg_steps': 2.9232558139534883, 'is_major': False, 'scaled_interval': 0.13014078657655218}, {'scaled_steps': 0.694062275977217, 'avg_interval': 35.40008006973625, 'avg_steps': 1.7047920433996384, 'is_major': False, 'scaled_interval': 0.7764827516152215}, {'scaled_steps': 0.7478613721435192, 'avg_interval': 33.46770598553468, 'avg_steps': 1.610344827586207, 'is_major': False, 'scaled_interval': 0.8450087476866784}, {'scaled_steps': 0.6183885471337016, 'avg_interval': 57.29622506682826, 'avg_steps': 1.8376413570274637, 'is_major': True, 'scaled_interval': 0.0}, {'scaled_steps': 0.7311620281855638, 'avg_interval': 50.71756054988156, 'avg_steps': 1.6396614268440146, 'is_major': False, 'scaled_interval': 0.23329309916200364}, {'scaled_steps': 0.6320683727064653, 'avg_interval': 47.87504901218948, 'avg_steps': 1.8136256851996868, 'is_major': True, 'scaled_interval': 0.3340944585144509}, {'scaled_steps': 1.0, 'avg_interval': 29.097086127110465, 'avg_steps': 1.1677018633540373, 'is_major': True, 'scaled_interval': 1.0}, {'scaled_steps': 0.9429224912765756, 'avg_interval': 44.671389268644155, 'avg_steps': 1.2679045092838197, 'is_major': True, 'scaled_interval': 0.44770288288492155}, {'scaled_steps': 0.6032332425693454, 'avg_interval': 55.657426290662045, 'avg_steps': 1.864247311827957, 'is_major': True, 'scaled_interval': 0.058115206271706785}]\n"
     ]
    }
   ],
   "source": [
    "all_intervals = [instance['avg_interval'] for instance in training_data]\n",
    "all_steps = [instance['avg_steps'] for instance in training_data]\n",
    "\n",
    "max_int, min_int = max(all_intervals), min(all_intervals)\n",
    "max_steps, min_steps = max(all_steps), min(all_steps)\n",
    "\n",
    "for instance in training_data:\n",
    "    instance['scaled_interval'] = abs(instance['avg_interval'] - max_int) / (max_int - min_int)\n",
    "    instance['scaled_steps'] = abs(instance['avg_steps'] - max_steps) / (max_steps - min_steps)\n",
    "\n",
    "print training_data"
   ]
  },
  {
   "cell_type": "code",
   "execution_count": 13,
   "metadata": {
    "collapsed": false
   },
   "outputs": [
    {
     "name": "stdout",
     "output_type": "stream",
     "text": [
      "    scaled_interval  scaled_steps is_major\n",
      "0          0.484983      0.518208     True\n",
      "1          0.680883      0.683129     True\n",
      "2          0.612065      0.542763     True\n",
      "3          0.878864      0.767830     True\n",
      "4          0.652398      0.550788     True\n",
      "5          0.786676      0.737304     True\n",
      "6          0.744760      0.711280    False\n",
      "7          0.808520      0.718759    False\n",
      "8          0.491063      0.606577    False\n",
      "9          0.886976      0.734941    False\n",
      "10         0.756743      0.783286    False\n",
      "11         0.772443      0.678438    False\n",
      "12         0.385886      0.337261     True\n",
      "13         0.698145      0.605999     True\n",
      "14         0.594430      0.484184    False\n",
      "15         0.954585      0.788808     True\n",
      "16         0.704249      0.687440     True\n",
      "17         0.630099      0.661888     True\n",
      "18         0.207571      0.144231     True\n",
      "19         0.893305      0.786187    False\n",
      "20         0.701525      0.634646    False\n",
      "21         0.947228      0.906862     True\n",
      "22         0.859386      0.770596     True\n",
      "23         0.815846      0.702990    False\n",
      "24         0.916520      0.786387    False\n",
      "25         0.705815      0.730172    False\n",
      "26         0.869264      0.827211    False\n",
      "27         0.130141      0.000000    False\n",
      "28         0.776483      0.694062    False\n",
      "29         0.845009      0.747861    False\n",
      "30         0.000000      0.618389     True\n",
      "31         0.233293      0.731162    False\n",
      "32         0.334094      0.632068     True\n",
      "33         1.000000      1.000000     True\n",
      "34         0.447703      0.942922     True\n",
      "35         0.058115      0.603233     True\n"
     ]
    },
    {
     "data": {
      "text/plain": [
       "(-0.1, 1.1)"
      ]
     },
     "execution_count": 13,
     "metadata": {},
     "output_type": "execute_result"
    },
    {
     "data": {
      "image/png": "[encoded data removed]",
      "text/plain": [
       "<matplotlib.figure.Figure at 0x11629e4d0>"
      ]
     },
     "metadata": {},
     "output_type": "display_data"
    }
   ],
   "source": [
    "# Create dataframe to hold relevant training feature and outcome data\n",
    "df = pd.DataFrame(training_data, columns=['scaled_interval', 'scaled_steps', 'is_major'])\n",
    "print df\n",
    "# Plot training data, O = major outcome, x = minor outcome\n",
    "is_major_filter = (df['is_major'] == True)\n",
    "is_minor_filter = (df['is_major'] == False)\n",
    "\n",
    "plt.plot(df[is_major_filter]['scaled_interval'], \n",
    "         df[is_major_filter]['scaled_steps'], \n",
    "         linestyle='', \n",
    "         marker='o')\n",
    "plt.plot(df[is_minor_filter]['scaled_interval'], \n",
    "         df[is_minor_filter]['scaled_steps'], \n",
    "         linestyle='', \n",
    "         marker='x')\n",
    "\n",
    "plt.xlabel('Interval')\n",
    "plt.ylabel('Steps')\n",
    "plt.ylim((-0.1, 1.1 ))\n",
    "plt.xlim((-0.1, 1.1 ))"
   ]
  }
 ],
 "metadata": {
  "anaconda-cloud": {},
  "kernelspec": {
   "display_name": "Python [default]",
   "language": "python",
   "name": "python2"
  },
  "language_info": {
   "codemirror_mode": {
    "name": "ipython",
    "version": 2
   },
   "file_extension": ".py",
   "mimetype": "text/x-python",
   "name": "python",
   "nbconvert_exporter": "python",
   "pygments_lexer": "ipython2",
   "version": "2.7.12"
  }
 },
 "nbformat": 4,
 "nbformat_minor": 1
}
